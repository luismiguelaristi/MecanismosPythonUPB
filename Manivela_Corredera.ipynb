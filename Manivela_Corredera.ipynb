{
 "cells": [
  {
   "cell_type": "markdown",
   "id": "steady-chorus",
   "metadata": {},
   "source": [
    "# Análisis de posición mecanismo manivela-corredera"
   ]
  },
  {
   "cell_type": "markdown",
   "id": "according-discipline",
   "metadata": {},
   "source": [
    "![ManivelaCorredera](ManivelaCorredera.png)"
   ]
  },
  {
   "cell_type": "markdown",
   "id": "sustainable-coaching",
   "metadata": {},
   "source": [
    "### Análisis vectorial\n",
    "\n"
   ]
  },
  {
   "cell_type": "markdown",
   "id": "quarterly-boring",
   "metadata": {},
   "source": [
    "![DiagramaCinematico](ManivelaCorrederaDiagrama1.png)\n",
    "\n",
    "Ecuación de cierre vectorial:\n",
    "\n",
    "$\\vec{r_1}+\\vec{r_2}-\\vec{r_3} = 0$\n",
    "\n",
    "Las ecuaciones escalares correspondientes son:\n",
    "\n",
    "$r_1\\cdot cos(0°)+r_2\\cdot cos(\\theta_2)-r_3\\cdot cos(\\theta_3) = 0$,\n",
    "\n",
    "$r_1\\cdot sin(0°)+r_2\\cdot sin(\\theta_2)-r_3\\cdot sin(\\theta_3) = 0$"
   ]
  },
  {
   "cell_type": "markdown",
   "id": "solved-daniel",
   "metadata": {},
   "source": [
    "## Librerías\n",
    "\n",
    "Se importan las librerías necesarias para la simulación:"
   ]
  },
  {
   "cell_type": "code",
   "execution_count": 1,
   "id": "olive-arkansas",
   "metadata": {},
   "outputs": [],
   "source": [
    "import numpy as np\n",
    "import matplotlib.pyplot as plt\n",
    "from scipy.optimize import fsolve\n",
    "\n",
    "#Funcion para las animaciones:\n",
    "\n",
    "from matplotlib.animation import FuncAnimation"
   ]
  },
  {
   "cell_type": "markdown",
   "id": "perfect-washington",
   "metadata": {},
   "source": [
    "Se declara la función la cual se iterará para resolver el sistema de ecuaciones no lineales:"
   ]
  },
  {
   "cell_type": "code",
   "execution_count": 2,
   "id": "desirable-scenario",
   "metadata": {},
   "outputs": [],
   "source": [
    "def manivela_corredera(x0, r, th):\n",
    "    \n",
    "    #Vector r: [r1, r2, r3]\n",
    "    #Vector theta: [th1, th2, th3]\n",
    "    \n",
    "    #x0 = [th2, th3]\n",
    "    \n",
    "    Y = np.zeros(2)\n",
    "    \n",
    "    Y[0] = r[0]*np.cos(th[0]) + r[1]*np.cos(x0[0]) - r[2]*np.cos(x0[1])\n",
    "    Y[1] = r[0]*np.sin(th[0]) + r[1]*np.sin(x0[0]) - r[2]*np.sin(x0[1])\n",
    "    \n",
    "    return Y\n",
    "    "
   ]
  },
  {
   "cell_type": "code",
   "execution_count": 3,
   "id": "aggregate-century",
   "metadata": {},
   "outputs": [],
   "source": [
    "#Parámetros:\n",
    "\n",
    "th1 = 0 #grados\n",
    "th2 = 143.4 #grados\n",
    "th3 = 63.4 #grados\n",
    "\n",
    "r1 = 16.514\n",
    "r2 = 15\n",
    "r3 = 10\n",
    "\n",
    "#Vectores:\n",
    "\n",
    "th = [np.deg2rad(th1), np.deg2rad(th2), np.deg2rad(th3)]"
   ]
  },
  {
   "cell_type": "code",
   "execution_count": 4,
   "id": "certain-kennedy",
   "metadata": {},
   "outputs": [],
   "source": [
    "#El vector de condiciones iniciales x0, se crea en función de los valores no conocidos:\n",
    "\n",
    "x0 = [th[1], th[2]]"
   ]
  },
  {
   "cell_type": "code",
   "execution_count": 5,
   "id": "supported-bosnia",
   "metadata": {},
   "outputs": [],
   "source": [
    "#Se define el número de posiciones:\n",
    "\n",
    "numpos = 50"
   ]
  },
  {
   "cell_type": "code",
   "execution_count": 6,
   "id": "engaged-helena",
   "metadata": {},
   "outputs": [],
   "source": [
    "#Se crea el vector que se usará para iterar el mecánismo, en este caso r1:\n",
    "\n",
    "R1 = np.linspace(r1, r1+4, numpos)"
   ]
  },
  {
   "cell_type": "code",
   "execution_count": 7,
   "id": "proper-timber",
   "metadata": {},
   "outputs": [],
   "source": [
    "#Vectores solución:\n",
    "\n",
    "TH2 = np.zeros(numpos)\n",
    "TH3 = np.zeros(numpos)\n",
    "\n",
    "EXITFLAG = np.zeros(numpos)"
   ]
  },
  {
   "cell_type": "code",
   "execution_count": 10,
   "id": "smart-interval",
   "metadata": {},
   "outputs": [
    {
     "name": "stdout",
     "output_type": "stream",
     "text": [
      "143.39619103417874 63.433690126741816\n",
      "143.53864024680303 63.05233003096692\n",
      "143.68274576706048 62.670850513125615\n",
      "143.82850832119618 62.289216109483775\n",
      "143.97592923871952 61.90739121655255\n",
      "144.12501045680995 61.525340064750885\n",
      "144.27575452627494 61.14302669293332\n",
      "144.42816461604266 60.76041491939729\n",
      "144.5822445220201 60.37746831547221\n",
      "144.73799867342223 59.99415017705542\n",
      "144.89543214186725 59.61042349519071\n",
      "145.0545506507712 59.22625092629328\n",
      "145.21536058575265 58.841594761401595\n",
      "145.37786900600534 58.45641689449549\n",
      "145.5420836566804 58.07067878980134\n",
      "145.70801298232354 57.68434144800092\n",
      "145.8756661414166 57.29736537125527\n",
      "146.04505302207653 56.90971052694894\n",
      "146.21618425897103 56.52133631005399\n",
      "146.38907125151323 56.1322015040061\n",
      "146.56372618340478 55.74226423997788\n",
      "146.74016204360245 55.35148195442589\n",
      "146.9183926486068 54.95981134469353\n",
      "147.09843266728342 54.56720832305928\n",
      "147.28029764542563 54.17362796770538\n",
      "147.4640040341266 53.77902447233082\n",
      "147.6495692190128 53.38335109276914\n",
      "147.83701155172284 52.986560091021786\n",
      "148.02635038354876 52.58860267639672\n",
      "148.217606101387 52.18942894352636\n",
      "148.4108001661575 51.788987807021435\n",
      "148.60595515386495 51.38722693249561\n",
      "148.80309479949207 50.98409266367215\n",
      "149.00224404393128 50.57952994525955\n",
      "149.20342908418243 50.17348224125287\n",
      "149.40667742706398 49.76589144828755\n",
      "149.61201794670973 49.35669780363632\n",
      "149.81948094614995 48.945839787401894\n",
      "150.02909822330417 48.53325401841399\n",
      "150.2409031417465 48.11887514329195\n",
      "150.4549307066406 47.702635718079\n",
      "150.6712176472231 47.284466082136106\n",
      "150.8898025001299 46.864294221331086\n",
      "151.1107257112278 46.44204562594297\n",
      "151.33402973096753 46.017643133098936\n",
      "151.55975912571898 45.59100676071633\n",
      "151.78796068718964 45.16205352538248\n",
      "152.01868360127003 44.73069726281977\n",
      "152.2519795061312 44.29684839367233\n",
      "152.48790271532636 43.86041372299394\n"
     ]
    }
   ],
   "source": [
    "#Solución sistema de ecuaciones:\n",
    "\n",
    "for i in range(numpos):\n",
    "    \n",
    "    if i == 0:\n",
    "        \n",
    "        TH2[i], TH3[i] = fsolve(manivela_corredera, x0, args=([r1, r2, r3], th))\n",
    "        \n",
    "        print(np.rad2deg(TH2[i]), np.rad2deg(TH3[i]))\n",
    "        \n",
    "    else: \n",
    "        \n",
    "        x0 = [TH2[-1], TH3[-1]]\n",
    "        \n",
    "        TH2[i], TH3[i] = fsolve(manivela_corredera, x0, args=([R1[i], r2, r3], th))\n",
    "        \n",
    "        print(np.rad2deg(TH2[i]), np.rad2deg(TH3[i]))\n",
    "        \n",
    "    "
   ]
  },
  {
   "cell_type": "code",
   "execution_count": null,
   "id": "shared-chair",
   "metadata": {},
   "outputs": [],
   "source": []
  }
 ],
 "metadata": {
  "kernelspec": {
   "display_name": "Python 3",
   "language": "python",
   "name": "python3"
  },
  "language_info": {
   "codemirror_mode": {
    "name": "ipython",
    "version": 3
   },
   "file_extension": ".py",
   "mimetype": "text/x-python",
   "name": "python",
   "nbconvert_exporter": "python",
   "pygments_lexer": "ipython3",
   "version": "3.9.1"
  }
 },
 "nbformat": 4,
 "nbformat_minor": 5
}
