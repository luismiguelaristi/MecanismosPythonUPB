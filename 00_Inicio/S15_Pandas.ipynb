{
 "cells": [
  {
   "cell_type": "markdown",
   "metadata": {},
   "source": [
    "# Manipulación de datos con Pandas\n",
    "\n",
    "*Pandas* es un módulo que recoje múltiples herramientas de manipulación y análisis de datos.\n",
    "\n",
    "## Importar el módulo\n",
    "\n",
    "Iniciamos con la importación de *pandas*. Es usual hacerlo de la siguiente manera"
   ]
  },
  {
   "cell_type": "code",
   "execution_count": 122,
   "metadata": {},
   "outputs": [],
   "source": [
    "import pandas as pd"
   ]
  },
  {
   "cell_type": "markdown",
   "metadata": {},
   "source": [
    "## Tipos de datos\n",
    "\n",
    "Los tipos de datos principales utilizados en pandas son:\n",
    "\n",
    "### Series\n",
    "Arreglo de datos (similar a una lista) donde cada valor tiene una etiqueta, mejor llamado índice o *index*. "
   ]
  },
  {
   "cell_type": "code",
   "execution_count": 123,
   "metadata": {
    "scrolled": true
   },
   "outputs": [
    {
     "data": {
      "text/plain": [
       "0    1\n",
       "1    2\n",
       "2    3\n",
       "3    4\n",
       "4    5\n",
       "dtype: int64"
      ]
     },
     "execution_count": 123,
     "metadata": {},
     "output_type": "execute_result"
    }
   ],
   "source": [
    "pd.Series([1,2,3,4,5]) # sin índice "
   ]
  },
  {
   "cell_type": "code",
   "execution_count": 124,
   "metadata": {},
   "outputs": [
    {
     "data": {
      "text/plain": [
       "a    1\n",
       "b    2\n",
       "c    3\n",
       "d    4\n",
       "e    5\n",
       "dtype: int64"
      ]
     },
     "execution_count": 124,
     "metadata": {},
     "output_type": "execute_result"
    }
   ],
   "source": [
    "pd.Series([1,2,3,4,5],index=['a','b','c','d','e']) # sin índice "
   ]
  },
  {
   "cell_type": "markdown",
   "metadata": {},
   "source": [
    "Además, la Series puede tener un título."
   ]
  },
  {
   "cell_type": "code",
   "execution_count": 125,
   "metadata": {},
   "outputs": [
    {
     "data": {
      "text/plain": [
       "a    1\n",
       "b    2\n",
       "c    3\n",
       "d    4\n",
       "e    5\n",
       "Name: Mi Primera Serie, dtype: int64"
      ]
     },
     "execution_count": 125,
     "metadata": {},
     "output_type": "execute_result"
    }
   ],
   "source": [
    "pd.Series([1,2,3,4,5],index=['a','b','c','d','e'],name='Mi Primera Serie') # con índice"
   ]
  },
  {
   "cell_type": "markdown",
   "metadata": {},
   "source": [
    "### DataFrame\n",
    "\n",
    "Equivalente a una tabla. Contiene un arreglo de entradas individuales, cada una con un valor. cada entrada corresponde a una fila (o registro) y una columna. "
   ]
  },
  {
   "cell_type": "code",
   "execution_count": 126,
   "metadata": {},
   "outputs": [
    {
     "data": {
      "text/html": [
       "<div>\n",
       "<style scoped>\n",
       "    .dataframe tbody tr th:only-of-type {\n",
       "        vertical-align: middle;\n",
       "    }\n",
       "\n",
       "    .dataframe tbody tr th {\n",
       "        vertical-align: top;\n",
       "    }\n",
       "\n",
       "    .dataframe thead th {\n",
       "        text-align: right;\n",
       "    }\n",
       "</style>\n",
       "<table border=\"1\" class=\"dataframe\">\n",
       "  <thead>\n",
       "    <tr style=\"text-align: right;\">\n",
       "      <th></th>\n",
       "      <th>0</th>\n",
       "    </tr>\n",
       "  </thead>\n",
       "  <tbody>\n",
       "    <tr>\n",
       "      <th>0</th>\n",
       "      <td>1</td>\n",
       "    </tr>\n",
       "    <tr>\n",
       "      <th>1</th>\n",
       "      <td>2</td>\n",
       "    </tr>\n",
       "    <tr>\n",
       "      <th>2</th>\n",
       "      <td>3</td>\n",
       "    </tr>\n",
       "    <tr>\n",
       "      <th>3</th>\n",
       "      <td>4</td>\n",
       "    </tr>\n",
       "    <tr>\n",
       "      <th>4</th>\n",
       "      <td>5</td>\n",
       "    </tr>\n",
       "  </tbody>\n",
       "</table>\n",
       "</div>"
      ],
      "text/plain": [
       "   0\n",
       "0  1\n",
       "1  2\n",
       "2  3\n",
       "3  4\n",
       "4  5"
      ]
     },
     "execution_count": 126,
     "metadata": {},
     "output_type": "execute_result"
    }
   ],
   "source": [
    "pd.DataFrame([1,2,3,4,5])"
   ]
  },
  {
   "cell_type": "markdown",
   "metadata": {},
   "source": [
    "Al igual que las Series, cada registro puede llevar un nombre, al igual que las columnas"
   ]
  },
  {
   "cell_type": "code",
   "execution_count": 127,
   "metadata": {},
   "outputs": [
    {
     "data": {
      "text/html": [
       "<div>\n",
       "<style scoped>\n",
       "    .dataframe tbody tr th:only-of-type {\n",
       "        vertical-align: middle;\n",
       "    }\n",
       "\n",
       "    .dataframe tbody tr th {\n",
       "        vertical-align: top;\n",
       "    }\n",
       "\n",
       "    .dataframe thead th {\n",
       "        text-align: right;\n",
       "    }\n",
       "</style>\n",
       "<table border=\"1\" class=\"dataframe\">\n",
       "  <thead>\n",
       "    <tr style=\"text-align: right;\">\n",
       "      <th></th>\n",
       "      <th>Columna 1</th>\n",
       "    </tr>\n",
       "  </thead>\n",
       "  <tbody>\n",
       "    <tr>\n",
       "      <th>a</th>\n",
       "      <td>1</td>\n",
       "    </tr>\n",
       "    <tr>\n",
       "      <th>b</th>\n",
       "      <td>2</td>\n",
       "    </tr>\n",
       "    <tr>\n",
       "      <th>c</th>\n",
       "      <td>3</td>\n",
       "    </tr>\n",
       "    <tr>\n",
       "      <th>d</th>\n",
       "      <td>4</td>\n",
       "    </tr>\n",
       "    <tr>\n",
       "      <th>e</th>\n",
       "      <td>5</td>\n",
       "    </tr>\n",
       "  </tbody>\n",
       "</table>\n",
       "</div>"
      ],
      "text/plain": [
       "   Columna 1\n",
       "a          1\n",
       "b          2\n",
       "c          3\n",
       "d          4\n",
       "e          5"
      ]
     },
     "execution_count": 127,
     "metadata": {},
     "output_type": "execute_result"
    }
   ],
   "source": [
    "pd.DataFrame([1,2,3,4,5],index=['a','b','c','d','e'],columns=['Columna 1'])"
   ]
  },
  {
   "cell_type": "markdown",
   "metadata": {},
   "source": [
    "También se puede decir que un dataframe es un **grupo de Series**: una columna de un DataFrame es una Series."
   ]
  },
  {
   "cell_type": "code",
   "execution_count": 128,
   "metadata": {},
   "outputs": [
    {
     "data": {
      "text/html": [
       "<div>\n",
       "<style scoped>\n",
       "    .dataframe tbody tr th:only-of-type {\n",
       "        vertical-align: middle;\n",
       "    }\n",
       "\n",
       "    .dataframe tbody tr th {\n",
       "        vertical-align: top;\n",
       "    }\n",
       "\n",
       "    .dataframe thead th {\n",
       "        text-align: right;\n",
       "    }\n",
       "</style>\n",
       "<table border=\"1\" class=\"dataframe\">\n",
       "  <thead>\n",
       "    <tr style=\"text-align: right;\">\n",
       "      <th></th>\n",
       "      <th>Columna 1</th>\n",
       "      <th>Columna 2</th>\n",
       "    </tr>\n",
       "  </thead>\n",
       "  <tbody>\n",
       "    <tr>\n",
       "      <th>a</th>\n",
       "      <td>1</td>\n",
       "      <td>10</td>\n",
       "    </tr>\n",
       "    <tr>\n",
       "      <th>b</th>\n",
       "      <td>2</td>\n",
       "      <td>20</td>\n",
       "    </tr>\n",
       "    <tr>\n",
       "      <th>c</th>\n",
       "      <td>3</td>\n",
       "      <td>30</td>\n",
       "    </tr>\n",
       "    <tr>\n",
       "      <th>d</th>\n",
       "      <td>4</td>\n",
       "      <td>40</td>\n",
       "    </tr>\n",
       "    <tr>\n",
       "      <th>e</th>\n",
       "      <td>5</td>\n",
       "      <td>50</td>\n",
       "    </tr>\n",
       "  </tbody>\n",
       "</table>\n",
       "</div>"
      ],
      "text/plain": [
       "   Columna 1  Columna 2\n",
       "a          1         10\n",
       "b          2         20\n",
       "c          3         30\n",
       "d          4         40\n",
       "e          5         50"
      ]
     },
     "execution_count": 128,
     "metadata": {},
     "output_type": "execute_result"
    }
   ],
   "source": [
    "pd.DataFrame([[1,10],[2,20],[3,30],[4,40],[5,50]],index=['a','b','c','d','e'],columns=['Columna 1','Columna 2'])"
   ]
  },
  {
   "cell_type": "markdown",
   "metadata": {},
   "source": [
    "## Lectura de archivos con datos\n",
    "\n",
    "Pandas puede cargar datos desde múltiples formatos, entre los cuales se encuentran:\n",
    "- csv\n",
    "- excel\n",
    "- json\n",
    "- portapapeles\n",
    "- html\n",
    "- sql\n",
    "- muchos otros.\n",
    "\n",
    "A continuación cargaremos el archivo \"*TRM_2022.csv*\""
   ]
  },
  {
   "cell_type": "code",
   "execution_count": 129,
   "metadata": {
    "scrolled": true
   },
   "outputs": [
    {
     "data": {
      "text/html": [
       "<div>\n",
       "<style scoped>\n",
       "    .dataframe tbody tr th:only-of-type {\n",
       "        vertical-align: middle;\n",
       "    }\n",
       "\n",
       "    .dataframe tbody tr th {\n",
       "        vertical-align: top;\n",
       "    }\n",
       "\n",
       "    .dataframe thead th {\n",
       "        text-align: right;\n",
       "    }\n",
       "</style>\n",
       "<table border=\"1\" class=\"dataframe\">\n",
       "  <thead>\n",
       "    <tr style=\"text-align: right;\">\n",
       "      <th></th>\n",
       "      <th>Año</th>\n",
       "      <th>Fecha (dd/mm/aaaa)</th>\n",
       "      <th>TRM</th>\n",
       "      <th>Día del mes</th>\n",
       "      <th>Mes</th>\n",
       "      <th>Id Mes</th>\n",
       "    </tr>\n",
       "  </thead>\n",
       "  <tbody>\n",
       "    <tr>\n",
       "      <th>0</th>\n",
       "      <td>2022</td>\n",
       "      <td>2022-07-31</td>\n",
       "      <td>4300,3</td>\n",
       "      <td>31</td>\n",
       "      <td>Julio</td>\n",
       "      <td>7</td>\n",
       "    </tr>\n",
       "    <tr>\n",
       "      <th>1</th>\n",
       "      <td>2022</td>\n",
       "      <td>2022-07-30</td>\n",
       "      <td>4300,3</td>\n",
       "      <td>30</td>\n",
       "      <td>Julio</td>\n",
       "      <td>7</td>\n",
       "    </tr>\n",
       "    <tr>\n",
       "      <th>2</th>\n",
       "      <td>2022</td>\n",
       "      <td>2022-07-29</td>\n",
       "      <td>4375,51</td>\n",
       "      <td>29</td>\n",
       "      <td>Julio</td>\n",
       "      <td>7</td>\n",
       "    </tr>\n",
       "    <tr>\n",
       "      <th>3</th>\n",
       "      <td>2022</td>\n",
       "      <td>2022-07-28</td>\n",
       "      <td>4420,75</td>\n",
       "      <td>28</td>\n",
       "      <td>Julio</td>\n",
       "      <td>7</td>\n",
       "    </tr>\n",
       "    <tr>\n",
       "      <th>4</th>\n",
       "      <td>2022</td>\n",
       "      <td>2022-07-27</td>\n",
       "      <td>4445,01</td>\n",
       "      <td>27</td>\n",
       "      <td>Julio</td>\n",
       "      <td>7</td>\n",
       "    </tr>\n",
       "    <tr>\n",
       "      <th>...</th>\n",
       "      <td>...</td>\n",
       "      <td>...</td>\n",
       "      <td>...</td>\n",
       "      <td>...</td>\n",
       "      <td>...</td>\n",
       "      <td>...</td>\n",
       "    </tr>\n",
       "    <tr>\n",
       "      <th>181</th>\n",
       "      <td>2022</td>\n",
       "      <td>2022-01-31</td>\n",
       "      <td>3982,6</td>\n",
       "      <td>31</td>\n",
       "      <td>Enero</td>\n",
       "      <td>1</td>\n",
       "    </tr>\n",
       "    <tr>\n",
       "      <th>182</th>\n",
       "      <td>2022</td>\n",
       "      <td>2022-01-30</td>\n",
       "      <td>3982,6</td>\n",
       "      <td>30</td>\n",
       "      <td>Enero</td>\n",
       "      <td>1</td>\n",
       "    </tr>\n",
       "    <tr>\n",
       "      <th>183</th>\n",
       "      <td>2022</td>\n",
       "      <td>2022-01-29</td>\n",
       "      <td>3982,6</td>\n",
       "      <td>29</td>\n",
       "      <td>Enero</td>\n",
       "      <td>1</td>\n",
       "    </tr>\n",
       "    <tr>\n",
       "      <th>184</th>\n",
       "      <td>2022</td>\n",
       "      <td>2022-01-28</td>\n",
       "      <td>3944,04</td>\n",
       "      <td>28</td>\n",
       "      <td>Enero</td>\n",
       "      <td>1</td>\n",
       "    </tr>\n",
       "    <tr>\n",
       "      <th>185</th>\n",
       "      <td>2022</td>\n",
       "      <td>2022-01-27</td>\n",
       "      <td>3947,83</td>\n",
       "      <td>27</td>\n",
       "      <td>Enero</td>\n",
       "      <td>1</td>\n",
       "    </tr>\n",
       "  </tbody>\n",
       "</table>\n",
       "<p>186 rows × 6 columns</p>\n",
       "</div>"
      ],
      "text/plain": [
       "      Año Fecha (dd/mm/aaaa)      TRM  Día del mes    Mes  Id Mes\n",
       "0    2022         2022-07-31   4300,3           31  Julio       7\n",
       "1    2022         2022-07-30   4300,3           30  Julio       7\n",
       "2    2022         2022-07-29  4375,51           29  Julio       7\n",
       "3    2022         2022-07-28  4420,75           28  Julio       7\n",
       "4    2022         2022-07-27  4445,01           27  Julio       7\n",
       "..    ...                ...      ...          ...    ...     ...\n",
       "181  2022         2022-01-31   3982,6           31  Enero       1\n",
       "182  2022         2022-01-30   3982,6           30  Enero       1\n",
       "183  2022         2022-01-29   3982,6           29  Enero       1\n",
       "184  2022         2022-01-28  3944,04           28  Enero       1\n",
       "185  2022         2022-01-27  3947,83           27  Enero       1\n",
       "\n",
       "[186 rows x 6 columns]"
      ]
     },
     "execution_count": 129,
     "metadata": {},
     "output_type": "execute_result"
    }
   ],
   "source": [
    "df = pd.read_csv(\"TRM_2022.csv\",delimiter=\",\")\n",
    "df"
   ]
  },
  {
   "cell_type": "markdown",
   "metadata": {},
   "source": [
    "### Modificando el índice\n",
    "\n",
    "¿Cuál sería una columna adecuada para usar como índice?\n",
    "\n",
    "R/ La columna de fecha puede ser un índice adecuado si queremos identificar cada registro por el tiempo en el que ocurre, y convertiría a nuestro dataset en un conjunto de series temporales.\n",
    "\n",
    "Para hacer esto, solo debemos especificar cuál columna va a convertirse en el índice"
   ]
  },
  {
   "cell_type": "code",
   "execution_count": 130,
   "metadata": {},
   "outputs": [
    {
     "data": {
      "text/html": [
       "<div>\n",
       "<style scoped>\n",
       "    .dataframe tbody tr th:only-of-type {\n",
       "        vertical-align: middle;\n",
       "    }\n",
       "\n",
       "    .dataframe tbody tr th {\n",
       "        vertical-align: top;\n",
       "    }\n",
       "\n",
       "    .dataframe thead th {\n",
       "        text-align: right;\n",
       "    }\n",
       "</style>\n",
       "<table border=\"1\" class=\"dataframe\">\n",
       "  <thead>\n",
       "    <tr style=\"text-align: right;\">\n",
       "      <th></th>\n",
       "      <th>Año</th>\n",
       "      <th>TRM</th>\n",
       "      <th>Día del mes</th>\n",
       "      <th>Mes</th>\n",
       "      <th>Id Mes</th>\n",
       "    </tr>\n",
       "    <tr>\n",
       "      <th>Fecha (dd/mm/aaaa)</th>\n",
       "      <th></th>\n",
       "      <th></th>\n",
       "      <th></th>\n",
       "      <th></th>\n",
       "      <th></th>\n",
       "    </tr>\n",
       "  </thead>\n",
       "  <tbody>\n",
       "    <tr>\n",
       "      <th>2022-07-31</th>\n",
       "      <td>2022</td>\n",
       "      <td>4300,3</td>\n",
       "      <td>31</td>\n",
       "      <td>Julio</td>\n",
       "      <td>7</td>\n",
       "    </tr>\n",
       "    <tr>\n",
       "      <th>2022-07-30</th>\n",
       "      <td>2022</td>\n",
       "      <td>4300,3</td>\n",
       "      <td>30</td>\n",
       "      <td>Julio</td>\n",
       "      <td>7</td>\n",
       "    </tr>\n",
       "    <tr>\n",
       "      <th>2022-07-29</th>\n",
       "      <td>2022</td>\n",
       "      <td>4375,51</td>\n",
       "      <td>29</td>\n",
       "      <td>Julio</td>\n",
       "      <td>7</td>\n",
       "    </tr>\n",
       "    <tr>\n",
       "      <th>2022-07-28</th>\n",
       "      <td>2022</td>\n",
       "      <td>4420,75</td>\n",
       "      <td>28</td>\n",
       "      <td>Julio</td>\n",
       "      <td>7</td>\n",
       "    </tr>\n",
       "    <tr>\n",
       "      <th>2022-07-27</th>\n",
       "      <td>2022</td>\n",
       "      <td>4445,01</td>\n",
       "      <td>27</td>\n",
       "      <td>Julio</td>\n",
       "      <td>7</td>\n",
       "    </tr>\n",
       "    <tr>\n",
       "      <th>...</th>\n",
       "      <td>...</td>\n",
       "      <td>...</td>\n",
       "      <td>...</td>\n",
       "      <td>...</td>\n",
       "      <td>...</td>\n",
       "    </tr>\n",
       "    <tr>\n",
       "      <th>2022-01-31</th>\n",
       "      <td>2022</td>\n",
       "      <td>3982,6</td>\n",
       "      <td>31</td>\n",
       "      <td>Enero</td>\n",
       "      <td>1</td>\n",
       "    </tr>\n",
       "    <tr>\n",
       "      <th>2022-01-30</th>\n",
       "      <td>2022</td>\n",
       "      <td>3982,6</td>\n",
       "      <td>30</td>\n",
       "      <td>Enero</td>\n",
       "      <td>1</td>\n",
       "    </tr>\n",
       "    <tr>\n",
       "      <th>2022-01-29</th>\n",
       "      <td>2022</td>\n",
       "      <td>3982,6</td>\n",
       "      <td>29</td>\n",
       "      <td>Enero</td>\n",
       "      <td>1</td>\n",
       "    </tr>\n",
       "    <tr>\n",
       "      <th>2022-01-28</th>\n",
       "      <td>2022</td>\n",
       "      <td>3944,04</td>\n",
       "      <td>28</td>\n",
       "      <td>Enero</td>\n",
       "      <td>1</td>\n",
       "    </tr>\n",
       "    <tr>\n",
       "      <th>2022-01-27</th>\n",
       "      <td>2022</td>\n",
       "      <td>3947,83</td>\n",
       "      <td>27</td>\n",
       "      <td>Enero</td>\n",
       "      <td>1</td>\n",
       "    </tr>\n",
       "  </tbody>\n",
       "</table>\n",
       "<p>186 rows × 5 columns</p>\n",
       "</div>"
      ],
      "text/plain": [
       "                     Año      TRM  Día del mes    Mes  Id Mes\n",
       "Fecha (dd/mm/aaaa)                                           \n",
       "2022-07-31          2022   4300,3           31  Julio       7\n",
       "2022-07-30          2022   4300,3           30  Julio       7\n",
       "2022-07-29          2022  4375,51           29  Julio       7\n",
       "2022-07-28          2022  4420,75           28  Julio       7\n",
       "2022-07-27          2022  4445,01           27  Julio       7\n",
       "...                  ...      ...          ...    ...     ...\n",
       "2022-01-31          2022   3982,6           31  Enero       1\n",
       "2022-01-30          2022   3982,6           30  Enero       1\n",
       "2022-01-29          2022   3982,6           29  Enero       1\n",
       "2022-01-28          2022  3944,04           28  Enero       1\n",
       "2022-01-27          2022  3947,83           27  Enero       1\n",
       "\n",
       "[186 rows x 5 columns]"
      ]
     },
     "execution_count": 130,
     "metadata": {},
     "output_type": "execute_result"
    }
   ],
   "source": [
    "df = df.set_index(\"Fecha (dd/mm/aaaa)\")\n",
    "df"
   ]
  },
  {
   "cell_type": "markdown",
   "metadata": {},
   "source": [
    "Y si queremos deshacer esto y volver al índice genérico (número entero incremental iniciando en 0)"
   ]
  },
  {
   "cell_type": "code",
   "execution_count": 131,
   "metadata": {},
   "outputs": [
    {
     "data": {
      "text/html": [
       "<div>\n",
       "<style scoped>\n",
       "    .dataframe tbody tr th:only-of-type {\n",
       "        vertical-align: middle;\n",
       "    }\n",
       "\n",
       "    .dataframe tbody tr th {\n",
       "        vertical-align: top;\n",
       "    }\n",
       "\n",
       "    .dataframe thead th {\n",
       "        text-align: right;\n",
       "    }\n",
       "</style>\n",
       "<table border=\"1\" class=\"dataframe\">\n",
       "  <thead>\n",
       "    <tr style=\"text-align: right;\">\n",
       "      <th></th>\n",
       "      <th>Fecha (dd/mm/aaaa)</th>\n",
       "      <th>Año</th>\n",
       "      <th>TRM</th>\n",
       "      <th>Día del mes</th>\n",
       "      <th>Mes</th>\n",
       "      <th>Id Mes</th>\n",
       "    </tr>\n",
       "  </thead>\n",
       "  <tbody>\n",
       "    <tr>\n",
       "      <th>0</th>\n",
       "      <td>2022-07-31</td>\n",
       "      <td>2022</td>\n",
       "      <td>4300,3</td>\n",
       "      <td>31</td>\n",
       "      <td>Julio</td>\n",
       "      <td>7</td>\n",
       "    </tr>\n",
       "    <tr>\n",
       "      <th>1</th>\n",
       "      <td>2022-07-30</td>\n",
       "      <td>2022</td>\n",
       "      <td>4300,3</td>\n",
       "      <td>30</td>\n",
       "      <td>Julio</td>\n",
       "      <td>7</td>\n",
       "    </tr>\n",
       "    <tr>\n",
       "      <th>2</th>\n",
       "      <td>2022-07-29</td>\n",
       "      <td>2022</td>\n",
       "      <td>4375,51</td>\n",
       "      <td>29</td>\n",
       "      <td>Julio</td>\n",
       "      <td>7</td>\n",
       "    </tr>\n",
       "    <tr>\n",
       "      <th>3</th>\n",
       "      <td>2022-07-28</td>\n",
       "      <td>2022</td>\n",
       "      <td>4420,75</td>\n",
       "      <td>28</td>\n",
       "      <td>Julio</td>\n",
       "      <td>7</td>\n",
       "    </tr>\n",
       "    <tr>\n",
       "      <th>4</th>\n",
       "      <td>2022-07-27</td>\n",
       "      <td>2022</td>\n",
       "      <td>4445,01</td>\n",
       "      <td>27</td>\n",
       "      <td>Julio</td>\n",
       "      <td>7</td>\n",
       "    </tr>\n",
       "    <tr>\n",
       "      <th>...</th>\n",
       "      <td>...</td>\n",
       "      <td>...</td>\n",
       "      <td>...</td>\n",
       "      <td>...</td>\n",
       "      <td>...</td>\n",
       "      <td>...</td>\n",
       "    </tr>\n",
       "    <tr>\n",
       "      <th>181</th>\n",
       "      <td>2022-01-31</td>\n",
       "      <td>2022</td>\n",
       "      <td>3982,6</td>\n",
       "      <td>31</td>\n",
       "      <td>Enero</td>\n",
       "      <td>1</td>\n",
       "    </tr>\n",
       "    <tr>\n",
       "      <th>182</th>\n",
       "      <td>2022-01-30</td>\n",
       "      <td>2022</td>\n",
       "      <td>3982,6</td>\n",
       "      <td>30</td>\n",
       "      <td>Enero</td>\n",
       "      <td>1</td>\n",
       "    </tr>\n",
       "    <tr>\n",
       "      <th>183</th>\n",
       "      <td>2022-01-29</td>\n",
       "      <td>2022</td>\n",
       "      <td>3982,6</td>\n",
       "      <td>29</td>\n",
       "      <td>Enero</td>\n",
       "      <td>1</td>\n",
       "    </tr>\n",
       "    <tr>\n",
       "      <th>184</th>\n",
       "      <td>2022-01-28</td>\n",
       "      <td>2022</td>\n",
       "      <td>3944,04</td>\n",
       "      <td>28</td>\n",
       "      <td>Enero</td>\n",
       "      <td>1</td>\n",
       "    </tr>\n",
       "    <tr>\n",
       "      <th>185</th>\n",
       "      <td>2022-01-27</td>\n",
       "      <td>2022</td>\n",
       "      <td>3947,83</td>\n",
       "      <td>27</td>\n",
       "      <td>Enero</td>\n",
       "      <td>1</td>\n",
       "    </tr>\n",
       "  </tbody>\n",
       "</table>\n",
       "<p>186 rows × 6 columns</p>\n",
       "</div>"
      ],
      "text/plain": [
       "    Fecha (dd/mm/aaaa)   Año      TRM  Día del mes    Mes  Id Mes\n",
       "0           2022-07-31  2022   4300,3           31  Julio       7\n",
       "1           2022-07-30  2022   4300,3           30  Julio       7\n",
       "2           2022-07-29  2022  4375,51           29  Julio       7\n",
       "3           2022-07-28  2022  4420,75           28  Julio       7\n",
       "4           2022-07-27  2022  4445,01           27  Julio       7\n",
       "..                 ...   ...      ...          ...    ...     ...\n",
       "181         2022-01-31  2022   3982,6           31  Enero       1\n",
       "182         2022-01-30  2022   3982,6           30  Enero       1\n",
       "183         2022-01-29  2022   3982,6           29  Enero       1\n",
       "184         2022-01-28  2022  3944,04           28  Enero       1\n",
       "185         2022-01-27  2022  3947,83           27  Enero       1\n",
       "\n",
       "[186 rows x 6 columns]"
      ]
     },
     "execution_count": 131,
     "metadata": {},
     "output_type": "execute_result"
    }
   ],
   "source": [
    "df = df.reset_index()\n",
    "df"
   ]
  },
  {
   "attachments": {
    "image.png": {
     "image/png": "[encoded data removed]"
    }
   },
   "cell_type": "markdown",
   "metadata": {},
   "source": [
    "## Acceso a los datos en un DataFrame\n",
    "\n",
    "Primero tenemos que entender la estructura de un DataFrame:\n",
    "\n",
    "![image.png](attachment:image.png)\n",
    "\n",
    "Tomado de [1]\n",
    "\n",
    "### Atributos del DataFrame\n",
    "\n",
    "información sobre los datos"
   ]
  },
  {
   "cell_type": "code",
   "execution_count": 132,
   "metadata": {},
   "outputs": [
    {
     "name": "stdout",
     "output_type": "stream",
     "text": [
      "<class 'pandas.core.frame.DataFrame'>\n",
      "RangeIndex: 186 entries, 0 to 185\n",
      "Data columns (total 6 columns):\n",
      " #   Column              Non-Null Count  Dtype \n",
      "---  ------              --------------  ----- \n",
      " 0   Fecha (dd/mm/aaaa)  186 non-null    object\n",
      " 1   Año                 186 non-null    int64 \n",
      " 2   TRM                 184 non-null    object\n",
      " 3   Día del mes         186 non-null    int64 \n",
      " 4   Mes                 186 non-null    object\n",
      " 5   Id Mes              186 non-null    int64 \n",
      "dtypes: int64(3), object(3)\n",
      "memory usage: 8.8+ KB\n"
     ]
    }
   ],
   "source": [
    "df.info()"
   ]
  },
  {
   "cell_type": "markdown",
   "metadata": {},
   "source": [
    "Podemos notar que el típo de dato de la columna TRM no es numérica. Más adelante resolveremos esto\n",
    "\n",
    "descripción de las variables numéricas (conteo, promedio, desviación estandar, etc)."
   ]
  },
  {
   "cell_type": "code",
   "execution_count": 133,
   "metadata": {
    "scrolled": true
   },
   "outputs": [
    {
     "data": {
      "text/html": [
       "<div>\n",
       "<style scoped>\n",
       "    .dataframe tbody tr th:only-of-type {\n",
       "        vertical-align: middle;\n",
       "    }\n",
       "\n",
       "    .dataframe tbody tr th {\n",
       "        vertical-align: top;\n",
       "    }\n",
       "\n",
       "    .dataframe thead th {\n",
       "        text-align: right;\n",
       "    }\n",
       "</style>\n",
       "<table border=\"1\" class=\"dataframe\">\n",
       "  <thead>\n",
       "    <tr style=\"text-align: right;\">\n",
       "      <th></th>\n",
       "      <th>Año</th>\n",
       "      <th>Día del mes</th>\n",
       "      <th>Id Mes</th>\n",
       "    </tr>\n",
       "  </thead>\n",
       "  <tbody>\n",
       "    <tr>\n",
       "      <th>count</th>\n",
       "      <td>186.0</td>\n",
       "      <td>186.000000</td>\n",
       "      <td>186.000000</td>\n",
       "    </tr>\n",
       "    <tr>\n",
       "      <th>mean</th>\n",
       "      <td>2022.0</td>\n",
       "      <td>15.962366</td>\n",
       "      <td>4.440860</td>\n",
       "    </tr>\n",
       "    <tr>\n",
       "      <th>std</th>\n",
       "      <td>0.0</td>\n",
       "      <td>8.912408</td>\n",
       "      <td>1.773452</td>\n",
       "    </tr>\n",
       "    <tr>\n",
       "      <th>min</th>\n",
       "      <td>2022.0</td>\n",
       "      <td>1.000000</td>\n",
       "      <td>1.000000</td>\n",
       "    </tr>\n",
       "    <tr>\n",
       "      <th>25%</th>\n",
       "      <td>2022.0</td>\n",
       "      <td>8.000000</td>\n",
       "      <td>3.000000</td>\n",
       "    </tr>\n",
       "    <tr>\n",
       "      <th>50%</th>\n",
       "      <td>2022.0</td>\n",
       "      <td>16.000000</td>\n",
       "      <td>4.000000</td>\n",
       "    </tr>\n",
       "    <tr>\n",
       "      <th>75%</th>\n",
       "      <td>2022.0</td>\n",
       "      <td>24.000000</td>\n",
       "      <td>6.000000</td>\n",
       "    </tr>\n",
       "    <tr>\n",
       "      <th>max</th>\n",
       "      <td>2022.0</td>\n",
       "      <td>31.000000</td>\n",
       "      <td>7.000000</td>\n",
       "    </tr>\n",
       "  </tbody>\n",
       "</table>\n",
       "</div>"
      ],
      "text/plain": [
       "          Año  Día del mes      Id Mes\n",
       "count   186.0   186.000000  186.000000\n",
       "mean   2022.0    15.962366    4.440860\n",
       "std       0.0     8.912408    1.773452\n",
       "min    2022.0     1.000000    1.000000\n",
       "25%    2022.0     8.000000    3.000000\n",
       "50%    2022.0    16.000000    4.000000\n",
       "75%    2022.0    24.000000    6.000000\n",
       "max    2022.0    31.000000    7.000000"
      ]
     },
     "execution_count": 133,
     "metadata": {},
     "output_type": "execute_result"
    }
   ],
   "source": [
    "df.describe()"
   ]
  },
  {
   "cell_type": "markdown",
   "metadata": {},
   "source": [
    "Tamaños, dimensiones, índices, columnas, valores"
   ]
  },
  {
   "cell_type": "code",
   "execution_count": 134,
   "metadata": {},
   "outputs": [
    {
     "data": {
      "text/plain": [
       "(186, 6)"
      ]
     },
     "execution_count": 134,
     "metadata": {},
     "output_type": "execute_result"
    }
   ],
   "source": [
    "df.shape #filas por columnas"
   ]
  },
  {
   "cell_type": "code",
   "execution_count": 135,
   "metadata": {},
   "outputs": [
    {
     "data": {
      "text/plain": [
       "1116"
      ]
     },
     "execution_count": 135,
     "metadata": {},
     "output_type": "execute_result"
    }
   ],
   "source": [
    "df.size # número total de datos"
   ]
  },
  {
   "cell_type": "code",
   "execution_count": 136,
   "metadata": {},
   "outputs": [
    {
     "data": {
      "text/plain": [
       "2"
      ]
     },
     "execution_count": 136,
     "metadata": {},
     "output_type": "execute_result"
    }
   ],
   "source": [
    "df.ndim # número de dimensiones"
   ]
  },
  {
   "cell_type": "code",
   "execution_count": 137,
   "metadata": {},
   "outputs": [
    {
     "data": {
      "text/plain": [
       "RangeIndex(start=0, stop=186, step=1)"
      ]
     },
     "execution_count": 137,
     "metadata": {},
     "output_type": "execute_result"
    }
   ],
   "source": [
    "df.index"
   ]
  },
  {
   "cell_type": "code",
   "execution_count": 138,
   "metadata": {},
   "outputs": [
    {
     "data": {
      "text/plain": [
       "Index(['Fecha (dd/mm/aaaa)', 'Año', 'TRM', 'Día del mes', 'Mes', 'Id Mes'], dtype='object')"
      ]
     },
     "execution_count": 138,
     "metadata": {},
     "output_type": "execute_result"
    }
   ],
   "source": [
    "df.columns"
   ]
  },
  {
   "cell_type": "code",
   "execution_count": 139,
   "metadata": {},
   "outputs": [
    {
     "data": {
      "text/plain": [
       "array([['2022-07-31', 2022, '4300,3', 31, 'Julio', 7],\n",
       "       ['2022-07-30', 2022, '4300,3', 30, 'Julio', 7],\n",
       "       ['2022-07-29', 2022, '4375,51', 29, 'Julio', 7],\n",
       "       ...,\n",
       "       ['2022-01-29', 2022, '3982,6', 29, 'Enero', 1],\n",
       "       ['2022-01-28', 2022, '3944,04', 28, 'Enero', 1],\n",
       "       ['2022-01-27', 2022, '3947,83', 27, 'Enero', 1]], dtype=object)"
      ]
     },
     "execution_count": 139,
     "metadata": {},
     "output_type": "execute_result"
    }
   ],
   "source": [
    "df.values"
   ]
  },
  {
   "attachments": {},
   "cell_type": "markdown",
   "metadata": {},
   "source": [
    "### Columnas\n",
    "\n",
    "Podemos acceder por nombre de columna"
   ]
  },
  {
   "cell_type": "code",
   "execution_count": 140,
   "metadata": {
    "scrolled": true
   },
   "outputs": [
    {
     "data": {
      "text/plain": [
       "0       4300,3\n",
       "1       4300,3\n",
       "2      4375,51\n",
       "3      4420,75\n",
       "4      4445,01\n",
       "        ...   \n",
       "181     3982,6\n",
       "182     3982,6\n",
       "183     3982,6\n",
       "184    3944,04\n",
       "185    3947,83\n",
       "Name: TRM, Length: 186, dtype: object"
      ]
     },
     "execution_count": 140,
     "metadata": {},
     "output_type": "execute_result"
    }
   ],
   "source": [
    "df.TRM"
   ]
  },
  {
   "cell_type": "code",
   "execution_count": 141,
   "metadata": {},
   "outputs": [
    {
     "data": {
      "text/plain": [
       "0       4300,3\n",
       "1       4300,3\n",
       "2      4375,51\n",
       "3      4420,75\n",
       "4      4445,01\n",
       "        ...   \n",
       "181     3982,6\n",
       "182     3982,6\n",
       "183     3982,6\n",
       "184    3944,04\n",
       "185    3947,83\n",
       "Name: TRM, Length: 186, dtype: object"
      ]
     },
     "execution_count": 141,
     "metadata": {},
     "output_type": "execute_result"
    }
   ],
   "source": [
    "df['TRM']"
   ]
  },
  {
   "cell_type": "markdown",
   "metadata": {},
   "source": [
    "### Valores específicos"
   ]
  },
  {
   "cell_type": "markdown",
   "metadata": {},
   "source": [
    "Ahora para sacar un dato de una columna y una fila, puedo usar la notación de corchetes, como una lista cualquiera de Python"
   ]
  },
  {
   "cell_type": "code",
   "execution_count": 142,
   "metadata": {},
   "outputs": [
    {
     "data": {
      "text/plain": [
       "'4300,3'"
      ]
     },
     "execution_count": 142,
     "metadata": {},
     "output_type": "execute_result"
    }
   ],
   "source": [
    "df['TRM'][0]"
   ]
  },
  {
   "cell_type": "markdown",
   "metadata": {},
   "source": [
    "Si volvemos a poner el índice como la columna de la fecha..."
   ]
  },
  {
   "cell_type": "code",
   "execution_count": 143,
   "metadata": {},
   "outputs": [
    {
     "data": {
      "text/plain": [
       "'4300,3'"
      ]
     },
     "execution_count": 143,
     "metadata": {},
     "output_type": "execute_result"
    }
   ],
   "source": [
    "df = df.set_index(\"Fecha (dd/mm/aaaa)\")\n",
    "df['TRM']['2022-07-31']"
   ]
  },
  {
   "cell_type": "markdown",
   "metadata": {},
   "source": [
    "### Filas\n",
    "\n",
    "las principales formas de acceder a cada fila son:\n",
    "- por índice numérico - iloc"
   ]
  },
  {
   "cell_type": "code",
   "execution_count": 144,
   "metadata": {},
   "outputs": [
    {
     "data": {
      "text/plain": [
       "Año              2022\n",
       "TRM            4300,3\n",
       "Día del mes        31\n",
       "Mes             Julio\n",
       "Id Mes              7\n",
       "Name: 2022-07-31, dtype: object"
      ]
     },
     "execution_count": 144,
     "metadata": {},
     "output_type": "execute_result"
    }
   ],
   "source": [
    "df.iloc[0]"
   ]
  },
  {
   "cell_type": "markdown",
   "metadata": {},
   "source": [
    "- por etiqueta - loc"
   ]
  },
  {
   "cell_type": "code",
   "execution_count": 145,
   "metadata": {
    "scrolled": true
   },
   "outputs": [
    {
     "data": {
      "text/plain": [
       "Año              2022\n",
       "TRM            4300,3\n",
       "Día del mes        31\n",
       "Mes             Julio\n",
       "Id Mes              7\n",
       "Name: 2022-07-31, dtype: object"
      ]
     },
     "execution_count": 145,
     "metadata": {},
     "output_type": "execute_result"
    }
   ],
   "source": [
    "df.loc[\"2022-07-31\"]"
   ]
  },
  {
   "cell_type": "markdown",
   "metadata": {},
   "source": [
    "### Selección condicional\n",
    "\n",
    "Esto es útil si queremos seleccionar registros que cumplan con ciertas condiciones (muy similar al funcionamiento de filtros en Excel).\n",
    "\n",
    "Por ejemplo, si solo quiero los registros cuyo día del mes sea menor a 5 y solo del mes de Mayo"
   ]
  },
  {
   "cell_type": "code",
   "execution_count": 146,
   "metadata": {
    "scrolled": true
   },
   "outputs": [
    {
     "data": {
      "text/html": [
       "<div>\n",
       "<style scoped>\n",
       "    .dataframe tbody tr th:only-of-type {\n",
       "        vertical-align: middle;\n",
       "    }\n",
       "\n",
       "    .dataframe tbody tr th {\n",
       "        vertical-align: top;\n",
       "    }\n",
       "\n",
       "    .dataframe thead th {\n",
       "        text-align: right;\n",
       "    }\n",
       "</style>\n",
       "<table border=\"1\" class=\"dataframe\">\n",
       "  <thead>\n",
       "    <tr style=\"text-align: right;\">\n",
       "      <th></th>\n",
       "      <th>Año</th>\n",
       "      <th>TRM</th>\n",
       "      <th>Día del mes</th>\n",
       "      <th>Mes</th>\n",
       "      <th>Id Mes</th>\n",
       "    </tr>\n",
       "    <tr>\n",
       "      <th>Fecha (dd/mm/aaaa)</th>\n",
       "      <th></th>\n",
       "      <th></th>\n",
       "      <th></th>\n",
       "      <th></th>\n",
       "      <th></th>\n",
       "    </tr>\n",
       "  </thead>\n",
       "  <tbody>\n",
       "    <tr>\n",
       "      <th>2022-05-04</th>\n",
       "      <td>2022</td>\n",
       "      <td>4016,34</td>\n",
       "      <td>4</td>\n",
       "      <td>Mayo</td>\n",
       "      <td>5</td>\n",
       "    </tr>\n",
       "    <tr>\n",
       "      <th>2022-05-03</th>\n",
       "      <td>2022</td>\n",
       "      <td>4004,07</td>\n",
       "      <td>3</td>\n",
       "      <td>Mayo</td>\n",
       "      <td>5</td>\n",
       "    </tr>\n",
       "    <tr>\n",
       "      <th>2022-05-02</th>\n",
       "      <td>2022</td>\n",
       "      <td>3966,27</td>\n",
       "      <td>2</td>\n",
       "      <td>Mayo</td>\n",
       "      <td>5</td>\n",
       "    </tr>\n",
       "    <tr>\n",
       "      <th>2022-05-01</th>\n",
       "      <td>2022</td>\n",
       "      <td>3966,27</td>\n",
       "      <td>1</td>\n",
       "      <td>Mayo</td>\n",
       "      <td>5</td>\n",
       "    </tr>\n",
       "  </tbody>\n",
       "</table>\n",
       "</div>"
      ],
      "text/plain": [
       "                     Año      TRM  Día del mes   Mes  Id Mes\n",
       "Fecha (dd/mm/aaaa)                                          \n",
       "2022-05-04          2022  4016,34            4  Mayo       5\n",
       "2022-05-03          2022  4004,07            3  Mayo       5\n",
       "2022-05-02          2022  3966,27            2  Mayo       5\n",
       "2022-05-01          2022  3966,27            1  Mayo       5"
      ]
     },
     "execution_count": 146,
     "metadata": {},
     "output_type": "execute_result"
    }
   ],
   "source": [
    "df.loc[(df['Día del mes'] < 5) & (df['Mes'] == 'Mayo')]"
   ]
  },
  {
   "cell_type": "markdown",
   "metadata": {},
   "source": [
    "notar el uso de un solo & para unir dos preguntas, además del uso de paréntesis para separar las preguntas."
   ]
  },
  {
   "cell_type": "markdown",
   "metadata": {},
   "source": [
    "## Limpieza básica y modificación de datos\n",
    "\n",
    "### Valores faltantes\n",
    "\n",
    "Valores faltantes en el DataFrame apareceran como *NaN*, que significa *Not a Number*.\n",
    "\n",
    "vamos a buscar valores faltantes en la columna *TRM*"
   ]
  },
  {
   "cell_type": "code",
   "execution_count": 147,
   "metadata": {},
   "outputs": [
    {
     "data": {
      "text/html": [
       "<div>\n",
       "<style scoped>\n",
       "    .dataframe tbody tr th:only-of-type {\n",
       "        vertical-align: middle;\n",
       "    }\n",
       "\n",
       "    .dataframe tbody tr th {\n",
       "        vertical-align: top;\n",
       "    }\n",
       "\n",
       "    .dataframe thead th {\n",
       "        text-align: right;\n",
       "    }\n",
       "</style>\n",
       "<table border=\"1\" class=\"dataframe\">\n",
       "  <thead>\n",
       "    <tr style=\"text-align: right;\">\n",
       "      <th></th>\n",
       "      <th>Año</th>\n",
       "      <th>TRM</th>\n",
       "      <th>Día del mes</th>\n",
       "      <th>Mes</th>\n",
       "      <th>Id Mes</th>\n",
       "    </tr>\n",
       "    <tr>\n",
       "      <th>Fecha (dd/mm/aaaa)</th>\n",
       "      <th></th>\n",
       "      <th></th>\n",
       "      <th></th>\n",
       "      <th></th>\n",
       "      <th></th>\n",
       "    </tr>\n",
       "  </thead>\n",
       "  <tbody>\n",
       "    <tr>\n",
       "      <th>2022-04-28</th>\n",
       "      <td>2022</td>\n",
       "      <td>NaN</td>\n",
       "      <td>28</td>\n",
       "      <td>Abril</td>\n",
       "      <td>4</td>\n",
       "    </tr>\n",
       "    <tr>\n",
       "      <th>2022-02-24</th>\n",
       "      <td>2022</td>\n",
       "      <td>NaN</td>\n",
       "      <td>24</td>\n",
       "      <td>Febrero</td>\n",
       "      <td>2</td>\n",
       "    </tr>\n",
       "  </tbody>\n",
       "</table>\n",
       "</div>"
      ],
      "text/plain": [
       "                     Año  TRM  Día del mes      Mes  Id Mes\n",
       "Fecha (dd/mm/aaaa)                                         \n",
       "2022-04-28          2022  NaN           28    Abril       4\n",
       "2022-02-24          2022  NaN           24  Febrero       2"
      ]
     },
     "execution_count": 147,
     "metadata": {},
     "output_type": "execute_result"
    }
   ],
   "source": [
    "df[pd.isnull(df['TRM'])]"
   ]
  },
  {
   "cell_type": "markdown",
   "metadata": {},
   "source": [
    "pandas incluye funciones para lidiar con los valores faltantes:\n",
    "\n",
    "- fillna(*reemplazo*): reemplaza los NaN con el valor indicado en *reemplazo*\n",
    "- dropna(): elimina los registros (filas) que contengan elementos vacíos\n",
    "\n",
    "Vamos a eliminar los registros incompletos"
   ]
  },
  {
   "cell_type": "code",
   "execution_count": 148,
   "metadata": {},
   "outputs": [
    {
     "data": {
      "text/html": [
       "<div>\n",
       "<style scoped>\n",
       "    .dataframe tbody tr th:only-of-type {\n",
       "        vertical-align: middle;\n",
       "    }\n",
       "\n",
       "    .dataframe tbody tr th {\n",
       "        vertical-align: top;\n",
       "    }\n",
       "\n",
       "    .dataframe thead th {\n",
       "        text-align: right;\n",
       "    }\n",
       "</style>\n",
       "<table border=\"1\" class=\"dataframe\">\n",
       "  <thead>\n",
       "    <tr style=\"text-align: right;\">\n",
       "      <th></th>\n",
       "      <th>Año</th>\n",
       "      <th>TRM</th>\n",
       "      <th>Día del mes</th>\n",
       "      <th>Mes</th>\n",
       "      <th>Id Mes</th>\n",
       "    </tr>\n",
       "    <tr>\n",
       "      <th>Fecha (dd/mm/aaaa)</th>\n",
       "      <th></th>\n",
       "      <th></th>\n",
       "      <th></th>\n",
       "      <th></th>\n",
       "      <th></th>\n",
       "    </tr>\n",
       "  </thead>\n",
       "  <tbody>\n",
       "  </tbody>\n",
       "</table>\n",
       "</div>"
      ],
      "text/plain": [
       "Empty DataFrame\n",
       "Columns: [Año, TRM, Día del mes, Mes, Id Mes]\n",
       "Index: []"
      ]
     },
     "execution_count": 148,
     "metadata": {},
     "output_type": "execute_result"
    }
   ],
   "source": [
    "df = df.dropna()\n",
    "# luego verificamos que queden eliminados\n",
    "df[pd.isnull(df['TRM'])]"
   ]
  },
  {
   "cell_type": "markdown",
   "metadata": {},
   "source": [
    "### Cambio de tipos de datos\n",
    "\n",
    "En este ejemplo, el valor de TRM no fue convertido a número float, por lo cual debemos hacer la conversión manualmente.\n",
    "\n",
    "Para esto usaremos *.astype('float')*, aunque con precaución, ya que puede ocurrir un error en el proceso"
   ]
  },
  {
   "cell_type": "code",
   "execution_count": 149,
   "metadata": {},
   "outputs": [
    {
     "name": "stdout",
     "output_type": "stream",
     "text": [
      "could not convert string to float: '4300,3'\n"
     ]
    }
   ],
   "source": [
    "try:\n",
    "    df['TRM'].astype('float')\n",
    "except Exception as e:\n",
    "    print(e)"
   ]
  },
  {
   "cell_type": "markdown",
   "metadata": {},
   "source": [
    "astype no reconoce las comas como caracter decimal, por lo que debemos cambiar los caracteres ',' por '.'\n",
    "\n",
    "Para esto podríamos usar un ciclo for, aunque esta forma es mucho más eficiente:"
   ]
  },
  {
   "cell_type": "code",
   "execution_count": 152,
   "metadata": {
    "scrolled": true
   },
   "outputs": [
    {
     "data": {
      "text/plain": [
       "Fecha (dd/mm/aaaa)\n",
       "2022-07-31     4300.3\n",
       "2022-07-30     4300.3\n",
       "2022-07-29    4375.51\n",
       "2022-07-28    4420.75\n",
       "2022-07-27    4445.01\n",
       "               ...   \n",
       "2022-01-31     3982.6\n",
       "2022-01-30     3982.6\n",
       "2022-01-29     3982.6\n",
       "2022-01-28    3944.04\n",
       "2022-01-27    3947.83\n",
       "Name: TRM, Length: 184, dtype: object"
      ]
     },
     "execution_count": 152,
     "metadata": {},
     "output_type": "execute_result"
    }
   ],
   "source": [
    "df['TRM'] = df['TRM'].str.replace(\",\",\".\")\n",
    "df['TRM']"
   ]
  },
  {
   "cell_type": "markdown",
   "metadata": {},
   "source": [
    "Volvamos a intentar..."
   ]
  },
  {
   "cell_type": "code",
   "execution_count": 154,
   "metadata": {
    "scrolled": false
   },
   "outputs": [
    {
     "data": {
      "text/plain": [
       "Fecha (dd/mm/aaaa)\n",
       "2022-07-31    4300.30\n",
       "2022-07-30    4300.30\n",
       "2022-07-29    4375.51\n",
       "2022-07-28    4420.75\n",
       "2022-07-27    4445.01\n",
       "               ...   \n",
       "2022-01-31    3982.60\n",
       "2022-01-30    3982.60\n",
       "2022-01-29    3982.60\n",
       "2022-01-28    3944.04\n",
       "2022-01-27    3947.83\n",
       "Name: TRM, Length: 184, dtype: float64"
      ]
     },
     "execution_count": 154,
     "metadata": {},
     "output_type": "execute_result"
    }
   ],
   "source": [
    "try:\n",
    "    df['TRM'] = df['TRM'].astype('float')\n",
    "except Exception as e:\n",
    "    print(e)\n",
    "df['TRM']"
   ]
  },
  {
   "cell_type": "markdown",
   "metadata": {},
   "source": [
    "### String a fecha (datetime)\n",
    "\n",
    "Notemos que la fecha, que en este momento es el índice, es de tipo \"object\", por lo que no se considera como fecha."
   ]
  },
  {
   "cell_type": "code",
   "execution_count": 162,
   "metadata": {},
   "outputs": [
    {
     "data": {
      "text/plain": [
       "Index(['2022-07-31', '2022-07-30', '2022-07-29', '2022-07-28', '2022-07-27',\n",
       "       '2022-07-26', '2022-07-25', '2022-07-24', '2022-07-23', '2022-07-22',\n",
       "       ...\n",
       "       '2022-02-05', '2022-02-04', '2022-02-03', '2022-02-02', '2022-02-01',\n",
       "       '2022-01-31', '2022-01-30', '2022-01-29', '2022-01-28', '2022-01-27'],\n",
       "      dtype='object', name='Fecha (dd/mm/aaaa)', length=184)"
      ]
     },
     "execution_count": 162,
     "metadata": {},
     "output_type": "execute_result"
    }
   ],
   "source": [
    "df.index"
   ]
  },
  {
   "cell_type": "code",
   "execution_count": 166,
   "metadata": {},
   "outputs": [
    {
     "data": {
      "text/plain": [
       "DatetimeIndex(['2022-07-31', '2022-07-30', '2022-07-29', '2022-07-28',\n",
       "               '2022-07-27', '2022-07-26', '2022-07-25', '2022-07-24',\n",
       "               '2022-07-23', '2022-07-22',\n",
       "               ...\n",
       "               '2022-02-05', '2022-02-04', '2022-02-03', '2022-02-02',\n",
       "               '2022-02-01', '2022-01-31', '2022-01-30', '2022-01-29',\n",
       "               '2022-01-28', '2022-01-27'],\n",
       "              dtype='datetime64[ns]', name='Fecha (dd/mm/aaaa)', length=184, freq=None)"
      ]
     },
     "execution_count": 166,
     "metadata": {},
     "output_type": "execute_result"
    }
   ],
   "source": [
    "df.index = pd.to_datetime(df.index)\n",
    "df.index"
   ]
  },
  {
   "cell_type": "markdown",
   "metadata": {},
   "source": [
    "Ahora con el índice como fecha (datetime), se puede acceder a la información con base en consultas relacionadas al tiempo.\n"
   ]
  },
  {
   "cell_type": "code",
   "execution_count": 174,
   "metadata": {},
   "outputs": [
    {
     "name": "stdout",
     "output_type": "stream",
     "text": [
      "2022 7 31\n"
     ]
    }
   ],
   "source": [
    "print(df.index.year[0],df.index.month[0],df.index.day[0])"
   ]
  },
  {
   "cell_type": "markdown",
   "metadata": {},
   "source": [
    "### Reemplazar valores\n",
    "\n",
    "podemos usar la función *replace()*, la cual recibe un diccionario con parejas clave:valor como elemento nuevo:elemento a cambiar.\n",
    "\n",
    "Por ejemplo, vamos a reemplazar el nombre del mes a un String en inglés."
   ]
  },
  {
   "cell_type": "code",
   "execution_count": 155,
   "metadata": {
    "scrolled": false
   },
   "outputs": [
    {
     "data": {
      "text/html": [
       "<div>\n",
       "<style scoped>\n",
       "    .dataframe tbody tr th:only-of-type {\n",
       "        vertical-align: middle;\n",
       "    }\n",
       "\n",
       "    .dataframe tbody tr th {\n",
       "        vertical-align: top;\n",
       "    }\n",
       "\n",
       "    .dataframe thead th {\n",
       "        text-align: right;\n",
       "    }\n",
       "</style>\n",
       "<table border=\"1\" class=\"dataframe\">\n",
       "  <thead>\n",
       "    <tr style=\"text-align: right;\">\n",
       "      <th></th>\n",
       "      <th>Año</th>\n",
       "      <th>TRM</th>\n",
       "      <th>Día del mes</th>\n",
       "      <th>Mes</th>\n",
       "      <th>Id Mes</th>\n",
       "    </tr>\n",
       "    <tr>\n",
       "      <th>Fecha (dd/mm/aaaa)</th>\n",
       "      <th></th>\n",
       "      <th></th>\n",
       "      <th></th>\n",
       "      <th></th>\n",
       "      <th></th>\n",
       "    </tr>\n",
       "  </thead>\n",
       "  <tbody>\n",
       "    <tr>\n",
       "      <th>2022-07-31</th>\n",
       "      <td>2022</td>\n",
       "      <td>4300.30</td>\n",
       "      <td>31</td>\n",
       "      <td>Jul</td>\n",
       "      <td>7</td>\n",
       "    </tr>\n",
       "    <tr>\n",
       "      <th>2022-07-30</th>\n",
       "      <td>2022</td>\n",
       "      <td>4300.30</td>\n",
       "      <td>30</td>\n",
       "      <td>Jul</td>\n",
       "      <td>7</td>\n",
       "    </tr>\n",
       "    <tr>\n",
       "      <th>2022-07-29</th>\n",
       "      <td>2022</td>\n",
       "      <td>4375.51</td>\n",
       "      <td>29</td>\n",
       "      <td>Jul</td>\n",
       "      <td>7</td>\n",
       "    </tr>\n",
       "    <tr>\n",
       "      <th>2022-07-28</th>\n",
       "      <td>2022</td>\n",
       "      <td>4420.75</td>\n",
       "      <td>28</td>\n",
       "      <td>Jul</td>\n",
       "      <td>7</td>\n",
       "    </tr>\n",
       "    <tr>\n",
       "      <th>2022-07-27</th>\n",
       "      <td>2022</td>\n",
       "      <td>4445.01</td>\n",
       "      <td>27</td>\n",
       "      <td>Jul</td>\n",
       "      <td>7</td>\n",
       "    </tr>\n",
       "    <tr>\n",
       "      <th>...</th>\n",
       "      <td>...</td>\n",
       "      <td>...</td>\n",
       "      <td>...</td>\n",
       "      <td>...</td>\n",
       "      <td>...</td>\n",
       "    </tr>\n",
       "    <tr>\n",
       "      <th>2022-01-31</th>\n",
       "      <td>2022</td>\n",
       "      <td>3982.60</td>\n",
       "      <td>31</td>\n",
       "      <td>Jan</td>\n",
       "      <td>1</td>\n",
       "    </tr>\n",
       "    <tr>\n",
       "      <th>2022-01-30</th>\n",
       "      <td>2022</td>\n",
       "      <td>3982.60</td>\n",
       "      <td>30</td>\n",
       "      <td>Jan</td>\n",
       "      <td>1</td>\n",
       "    </tr>\n",
       "    <tr>\n",
       "      <th>2022-01-29</th>\n",
       "      <td>2022</td>\n",
       "      <td>3982.60</td>\n",
       "      <td>29</td>\n",
       "      <td>Jan</td>\n",
       "      <td>1</td>\n",
       "    </tr>\n",
       "    <tr>\n",
       "      <th>2022-01-28</th>\n",
       "      <td>2022</td>\n",
       "      <td>3944.04</td>\n",
       "      <td>28</td>\n",
       "      <td>Jan</td>\n",
       "      <td>1</td>\n",
       "    </tr>\n",
       "    <tr>\n",
       "      <th>2022-01-27</th>\n",
       "      <td>2022</td>\n",
       "      <td>3947.83</td>\n",
       "      <td>27</td>\n",
       "      <td>Jan</td>\n",
       "      <td>1</td>\n",
       "    </tr>\n",
       "  </tbody>\n",
       "</table>\n",
       "<p>184 rows × 5 columns</p>\n",
       "</div>"
      ],
      "text/plain": [
       "                     Año      TRM  Día del mes  Mes  Id Mes\n",
       "Fecha (dd/mm/aaaa)                                         \n",
       "2022-07-31          2022  4300.30           31  Jul       7\n",
       "2022-07-30          2022  4300.30           30  Jul       7\n",
       "2022-07-29          2022  4375.51           29  Jul       7\n",
       "2022-07-28          2022  4420.75           28  Jul       7\n",
       "2022-07-27          2022  4445.01           27  Jul       7\n",
       "...                  ...      ...          ...  ...     ...\n",
       "2022-01-31          2022  3982.60           31  Jan       1\n",
       "2022-01-30          2022  3982.60           30  Jan       1\n",
       "2022-01-29          2022  3982.60           29  Jan       1\n",
       "2022-01-28          2022  3944.04           28  Jan       1\n",
       "2022-01-27          2022  3947.83           27  Jan       1\n",
       "\n",
       "[184 rows x 5 columns]"
      ]
     },
     "execution_count": 155,
     "metadata": {},
     "output_type": "execute_result"
    }
   ],
   "source": [
    "traductor = {\n",
    "    'Enero':'Jan',\n",
    "    'Febrero':'Feb',\n",
    "    'Marzo':'Mar',\n",
    "    'Abril':'Apr',\n",
    "    'Mayo':'May',\n",
    "    'Junio':'Jun',\n",
    "    'Julio':'Jul'\n",
    "}\n",
    "\n",
    "df['Mes'] = df['Mes'].replace(traductor)\n",
    "df"
   ]
  },
  {
   "cell_type": "markdown",
   "metadata": {},
   "source": [
    "## Algunas medidas estadísticas\n",
    "\n",
    "Obtener el promedio de la TRM por mes"
   ]
  },
  {
   "cell_type": "code",
   "execution_count": 176,
   "metadata": {},
   "outputs": [],
   "source": [
    "# df.loc['TRM'][df['Mes'].describe()]\n",
    "# df"
   ]
  },
  {
   "cell_type": "markdown",
   "metadata": {},
   "source": [
    "# Referencias\n",
    "\n",
    "[1] https://aprendepython.es/pypi/datascience/pandas/"
   ]
  }
 ],
 "metadata": {
  "kernelspec": {
   "display_name": "Python 3",
   "language": "python",
   "name": "python3"
  },
  "language_info": {
   "codemirror_mode": {
    "name": "ipython",
    "version": 3
   },
   "file_extension": ".py",
   "mimetype": "text/x-python",
   "name": "python",
   "nbconvert_exporter": "python",
   "pygments_lexer": "ipython3",
   "version": "3.8.5"
  },
  "toc": {
   "base_numbering": 1,
   "nav_menu": {},
   "number_sections": false,
   "sideBar": true,
   "skip_h1_title": false,
   "title_cell": "Table of Contents",
   "title_sidebar": "Contents",
   "toc_cell": false,
   "toc_position": {},
   "toc_section_display": true,
   "toc_window_display": false
  },
  "varInspector": {
   "cols": {
    "lenName": 16,
    "lenType": 16,
    "lenVar": 40
   },
   "kernels_config": {
    "python": {
     "delete_cmd_postfix": "",
     "delete_cmd_prefix": "del ",
     "library": "var_list.py",
     "varRefreshCmd": "print(var_dic_list())"
    },
    "r": {
     "delete_cmd_postfix": ") ",
     "delete_cmd_prefix": "rm(",
     "library": "var_list.r",
     "varRefreshCmd": "cat(var_dic_list()) "
    }
   },
   "types_to_exclude": [
    "module",
    "function",
    "builtin_function_or_method",
    "instance",
    "_Feature"
   ],
   "window_display": false
  }
 },
 "nbformat": 4,
 "nbformat_minor": 4
}
