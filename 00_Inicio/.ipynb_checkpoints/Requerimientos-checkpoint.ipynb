{
 "cells": [
  {
   "cell_type": "markdown",
   "metadata": {},
   "source": [
    "# Requerimientos para ejecutar estos cuadernos\n",
    "\n",
    "1. Instalar anaconda\n",
    "\n",
    "PENDIENTE Agregar tutorial de Michael y Tiller"
   ]
  },
  {
   "cell_type": "markdown",
   "metadata": {},
   "source": [
    "2. Instalar ffmpeg (para animaciones)\n",
    "\n",
    "Abrir una consola de Anaconda (Anaconda Prompt o Powershell prompt)\n",
    "Ejecutar el siguiente comando con derechos de administrador:\n",
    "conda install -c conda-forge ffmpeg\n",
    "\n",
    "PENDIENTE mostrar con imágenes"
   ]
  },
  {
   "cell_type": "code",
   "execution_count": null,
   "metadata": {},
   "outputs": [],
   "source": []
  }
 ],
 "metadata": {
  "kernelspec": {
   "display_name": "Python 3",
   "language": "python",
   "name": "python3"
  },
  "language_info": {
   "codemirror_mode": {
    "name": "ipython",
    "version": 3
   },
   "file_extension": ".py",
   "mimetype": "text/x-python",
   "name": "python",
   "nbconvert_exporter": "python",
   "pygments_lexer": "ipython3",
   "version": "3.8.5"
  }
 },
 "nbformat": 4,
 "nbformat_minor": 4
}
