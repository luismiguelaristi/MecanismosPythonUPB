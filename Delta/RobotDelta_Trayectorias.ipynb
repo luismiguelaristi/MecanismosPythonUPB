{
 "cells": [
  {
   "cell_type": "markdown",
   "metadata": {},
   "source": [
    "# Definición de trayectorias para el Robot Delta de la UPB\n",
    "\n",
    "Este cuaderno requiere que el lector comprenda la teoría descrita en:\n",
    "\n",
    "https://nbviewer.jupyter.org/github/luismiguelaristi/MecanismosPythonUPB/blob/main/Delta/RobotDelta_Teoria.ipynb\n",
    "\n",
    "y partimos de la solución desarrollada en:\n",
    "\n",
    "https://nbviewer.jupyter.org/github/luismiguelaristi/MecanismosPythonUPB/blob/main/Delta/RobotDelta_CinInv.ipynb"
   ]
  },
  {
   "cell_type": "markdown",
   "metadata": {},
   "source": [
    "![DeltaGIF](https://upbeduco-my.sharepoint.com/personal/luismiguel_aristizabal_upb_edu_co/Documents/_COMPARTIR/Delta/OmronDeltaTrajectory.gif\n",
    " \"ss\")\n",
    "\n",
    "\n",
    "https://upbeduco-my.sharepoint.com/personal/luismiguel_aristizabal_upb_edu_co/Documents/_COMPARTIR/Delta/OmronDeltaTrajectory.gif\n",
    "\n",
    "Video Original: https://www.youtube.com/embed/8X7KsumRn24','100%','500"
   ]
  },
  {
   "cell_type": "markdown",
   "metadata": {},
   "source": []
  }
 ],
 "metadata": {
  "kernelspec": {
   "display_name": "Python 3",
   "language": "python",
   "name": "python3"
  },
  "language_info": {
   "codemirror_mode": {
    "name": "ipython",
    "version": 3
   },
   "file_extension": ".py",
   "mimetype": "text/x-python",
   "name": "python",
   "nbconvert_exporter": "python",
   "pygments_lexer": "ipython3",
   "version": "3.8.5"
  },
  "varInspector": {
   "cols": {
    "lenName": 16,
    "lenType": 16,
    "lenVar": 40
   },
   "kernels_config": {
    "python": {
     "delete_cmd_postfix": "",
     "delete_cmd_prefix": "del ",
     "library": "var_list.py",
     "varRefreshCmd": "print(var_dic_list())"
    },
    "r": {
     "delete_cmd_postfix": ") ",
     "delete_cmd_prefix": "rm(",
     "library": "var_list.r",
     "varRefreshCmd": "cat(var_dic_list()) "
    }
   },
   "types_to_exclude": [
    "module",
    "function",
    "builtin_function_or_method",
    "instance",
    "_Feature"
   ],
   "window_display": false
  }
 },
 "nbformat": 4,
 "nbformat_minor": 4
}
