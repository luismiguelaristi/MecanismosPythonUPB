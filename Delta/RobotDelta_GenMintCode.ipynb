{
 "cells": [
  {
   "cell_type": "markdown",
   "metadata": {},
   "source": [
    "# Generador de códigos para MintWorkbench\n",
    "\n",
    "Correr el cuaderno completo, requiere el archivo \"DeltaLib.py\" en la misma carpeta de este cuaderno\n",
    "\n",
    "## Abrir cuadro de diálogo\n",
    "\n",
    "revise que se abra un cuadro de diálogo, luego escoja la carpeta donde están las subcarpetas de cada estudiante"
   ]
  },
  {
   "cell_type": "code",
   "execution_count": 3,
   "metadata": {},
   "outputs": [],
   "source": [
    "%reset -sf\n",
    "import tkinter as tk\n",
    "from tkinter import filedialog\n",
    "\n",
    "root = tk.Tk()\n",
    "root.withdraw()\n",
    "\n",
    "file_path = filedialog.askdirectory()\n"
   ]
  },
  {
   "cell_type": "markdown",
   "metadata": {},
   "source": [
    "## Generar archivos de trayectoria\n",
    "\n",
    "Se generan archivos en una carpeta llamada \"trayectorias\" en la carpeta de trabajo de este cuaderno."
   ]
  },
  {
   "cell_type": "code",
   "execution_count": 9,
   "metadata": {
    "scrolled": false
   },
   "outputs": [
    {
     "name": "stdout",
     "output_type": "stream",
     "text": [
      "(438, ' puntos procesados')\n",
      "(314, ' puntos procesados')\n",
      "(389, ' puntos procesados')\n",
      "(476, ' puntos procesados')\n",
      "(383, ' puntos procesados')\n",
      "(302, ' puntos procesados')\n",
      "(331, ' puntos procesados')\n",
      "(362, ' puntos procesados')\n",
      "(443, ' puntos procesados')\n",
      "(396, ' puntos procesados')\n",
      "(311, ' puntos procesados')\n",
      "(664, ' puntos procesados')\n",
      "(365, ' puntos procesados')\n",
      "(580, ' puntos procesados')\n",
      "(476, ' puntos procesados')\n",
      "(303, ' puntos procesados')\n",
      "(406, ' puntos procesados')\n",
      "(368, ' puntos procesados')\n",
      "(545, ' puntos procesados')\n",
      "(350, ' puntos procesados')\n",
      "(278, ' puntos procesados')\n",
      "(291, ' puntos procesados')\n",
      "(435, ' puntos procesados')\n",
      "(319, ' puntos procesados')\n",
      "(727, ' puntos procesados')\n",
      "(399, ' puntos procesados')\n",
      "(330, ' puntos procesados')\n",
      "(475, ' puntos procesados')\n"
     ]
    }
   ],
   "source": [
    "import os\n",
    "from DeltaLib import genMintCode\n",
    "import shutil\n",
    "\n",
    "def get_immediate_subdirectories(a_dir):\n",
    "    return [name for name in os.listdir(a_dir)\n",
    "            if os.path.isdir(os.path.join(a_dir, name))]\n",
    "\n",
    "for relPath in get_immediate_subdirectories(file_path):\n",
    "    pathStr = file_path + \"/\" + relPath + \"/angulos.csv\"\n",
    "    print(genMintCode(pathStr,125,1))\n",
    "    shutil.copyfile(file_path + \"/\" + relPath + \"/solution.txt\", os.getcwd() + \"/trayectorias/\" + relPath + '.txt')"
   ]
  }
 ],
 "metadata": {
  "kernelspec": {
   "display_name": "Python 3",
   "language": "python",
   "name": "python3"
  },
  "language_info": {
   "codemirror_mode": {
    "name": "ipython",
    "version": 3
   },
   "file_extension": ".py",
   "mimetype": "text/x-python",
   "name": "python",
   "nbconvert_exporter": "python",
   "pygments_lexer": "ipython3",
   "version": "3.8.5"
  },
  "toc": {
   "base_numbering": 1,
   "nav_menu": {},
   "number_sections": true,
   "sideBar": true,
   "skip_h1_title": false,
   "title_cell": "Table of Contents",
   "title_sidebar": "Contents",
   "toc_cell": false,
   "toc_position": {},
   "toc_section_display": true,
   "toc_window_display": false
  },
  "varInspector": {
   "cols": {
    "lenName": 16,
    "lenType": 16,
    "lenVar": 40
   },
   "kernels_config": {
    "python": {
     "delete_cmd_postfix": "",
     "delete_cmd_prefix": "del ",
     "library": "var_list.py",
     "varRefreshCmd": "print(var_dic_list())"
    },
    "r": {
     "delete_cmd_postfix": ") ",
     "delete_cmd_prefix": "rm(",
     "library": "var_list.r",
     "varRefreshCmd": "cat(var_dic_list()) "
    }
   },
   "types_to_exclude": [
    "module",
    "function",
    "builtin_function_or_method",
    "instance",
    "_Feature"
   ],
   "window_display": false
  }
 },
 "nbformat": 4,
 "nbformat_minor": 4
}
