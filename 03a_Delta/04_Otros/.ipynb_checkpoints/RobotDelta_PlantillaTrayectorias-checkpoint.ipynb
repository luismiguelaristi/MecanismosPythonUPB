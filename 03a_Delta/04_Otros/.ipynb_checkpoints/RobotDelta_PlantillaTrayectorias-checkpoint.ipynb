{
 "cells": [
  {
   "cell_type": "markdown",
   "metadata": {},
   "source": [
    "# Definición de trayectorias para el Robot Delta de la UPB\n",
    "\n",
    "Este cuaderno requiere que el lector comprenda la teoría descrita en:\n",
    "\n",
    "https://nbviewer.jupyter.org/github/luismiguelaristi/MecanismosPythonUPB/blob/main/Delta/RobotDelta_Teoria.ipynb\n",
    "\n",
    "y partimos de la solución desarrollada en:\n",
    "\n",
    "https://nbviewer.jupyter.org/github/luismiguelaristi/MecanismosPythonUPB/blob/main/Delta/RobotDelta_CinInv.ipynb\n",
    "\n",
    "En el siguente cuaderno puede revisar la teoría completa sobre trayectorias simples y compuestas:\n",
    "\n",
    "https://nbviewer.jupyter.org/github/luismiguelaristi/MecanismosPythonUPB/blob/main/Delta/RobotDelta_Trayectorias.ipynb"
   ]
  },
  {
   "cell_type": "markdown",
   "metadata": {},
   "source": [
    "## Descripción de la trayectoria a desarrollar"
   ]
  },
  {
   "cell_type": "markdown",
   "metadata": {},
   "source": [
    "Insertar aquí la descripción"
   ]
  },
  {
   "cell_type": "markdown",
   "metadata": {},
   "source": [
    "## Inicialización"
   ]
  },
  {
   "cell_type": "code",
   "execution_count": 1,
   "metadata": {},
   "outputs": [],
   "source": [
    "%reset -sf\n",
    "%matplotlib inline"
   ]
  },
  {
   "cell_type": "code",
   "execution_count": 2,
   "metadata": {},
   "outputs": [],
   "source": [
    "import numpy as np\n",
    "import matplotlib.pyplot as plt\n",
    "#para realizar animaciones\n",
    "from matplotlib.animation import FuncAnimation\n",
    "#para gráficas 3D\n",
    "from mpl_toolkits.mplot3d import Axes3D"
   ]
  },
  {
   "cell_type": "markdown",
   "metadata": {},
   "source": [
    "### Una forma de calcular el número de puntos para las trayectorias lineales\n",
    "\n",
    "Sólo se requiere conocer la distancia euclidiana entre puntos y la distancia mínima requerida entre los puntos. Sólo se debe llamar a la función calcNumpos"
   ]
  },
  {
   "cell_type": "code",
   "execution_count": 3,
   "metadata": {},
   "outputs": [
    {
     "ename": "SyntaxError",
     "evalue": "invalid syntax (<ipython-input-3-d3929d088e2a>, line 4)",
     "output_type": "error",
     "traceback": [
      "\u001b[1;36m  File \u001b[1;32m\"<ipython-input-3-d3929d088e2a>\"\u001b[1;36m, line \u001b[1;32m4\u001b[0m\n\u001b[1;33m    def calcNumpos([pInix,pIniy,pIniz],[pFinx,pFiny,pFinz],mindist):\u001b[0m\n\u001b[1;37m                   ^\u001b[0m\n\u001b[1;31mSyntaxError\u001b[0m\u001b[1;31m:\u001b[0m invalid syntax\n"
     ]
    }
   ],
   "source": [
    "# Una forma de determinar el número de puntos según la longitud de la trayectoria lineal\n",
    "# ver este enlace para explicación: \n",
    "# https://stackoverflow.com/questions/1401712/how-can-the-euclidean-distance-be-calculated-with-numpy\n",
    "def calcNumpos([pInix,pIniy,pIniz],[pFinx,pFiny,pFinz],mindist):  \n",
    "    #Calcular distancia euclidiana\n",
    "    euDist = np.linalg.norm(np.array((pFinx,pFiny,pFinz))-np.array((pInix,pIniy,pIniz)))\n",
    "    #Retonar valor entero, dividir la distancia total por la distancia mínima entre puntos\n",
    "    return int(np.ceil(euDist/mindist))+1"
   ]
  },
  {
   "cell_type": "markdown",
   "metadata": {},
   "source": [
    "### Una forma de calcular el número de puntos para las trayectorias circulares\n",
    "\n",
    "Sólo se requiere conocer el perímetro del arco trazado y la distancia mínima requerida entre los puntos. Sólo se debe llamar a la función calcNumposCirc"
   ]
  },
  {
   "cell_type": "code",
   "execution_count": null,
   "metadata": {},
   "outputs": [],
   "source": [
    "def calcNumposCirc(angIni,angFin,radio,mindist):  \n",
    "    #Calcular perímetro del arco\n",
    "    circDist = np.abs(angFin-angIni)*radio\n",
    "    #Retonar valor entero, dividir la distancia total por la distancia mínima entre puntos\n",
    "    return int(np.ceil(circDist/mindist))+1"
   ]
  },
  {
   "cell_type": "markdown",
   "metadata": {},
   "source": [
    "## Creación del lienzo 3D"
   ]
  },
  {
   "cell_type": "code",
   "execution_count": null,
   "metadata": {
    "scrolled": false
   },
   "outputs": [],
   "source": [
    "limX = np.array([-200,200])\n",
    "limY = np.array([-200,200])\n",
    "limZ = np.array([-800,-400])\n",
    "\n",
    "fig1 = plt.figure(figsize=(15, 10))\n",
    "ax1 = fig1.add_subplot(2,2,(1,3),projection = '3d', proj_type = 'ortho')\n",
    "ax1.view_init(elev=30, azim=315)\n",
    "\n",
    "fEscala = 1.39\n",
    "ax1.set_xlim3d(limX*fEscala)\n",
    "ax1.set_ylim3d(limY*fEscala)\n",
    "ax1.set_zlim3d(limZ)\n",
    "ax1.set_xlabel(\"eje x [mm]\")\n",
    "ax1.set_ylabel(\"eje y [mm]\")\n",
    "ax1.set_zlabel(\"eje z [mm]\")\n",
    "\n",
    "ax2 = fig1.add_subplot(2,2,2)\n",
    "ax2.set_title(\"Vista superior\")\n",
    "ax2.set_xlabel(\"eje x [mm]\")\n",
    "ax2.set_ylabel(\"eje y [mm]\")\n",
    "ax2.axis(\"scaled\")\n",
    "ax2.grid()\n",
    "ax2.set_xlim(limX)\n",
    "ax2.set_ylim(limY)\n",
    "ax3 = fig1.add_subplot(2,2,4)\n",
    "ax3.set_title(\"Vista frontal\")\n",
    "ax3.set_xlabel(\"eje x [mm]\")\n",
    "ax3.set_ylabel(\"eje z [mm]\")\n",
    "ax3.axis(\"scaled\")\n",
    "ax3.grid()\n",
    "ax3.set_xlim(limX)\n",
    "ax3.set_ylim(limZ)"
   ]
  },
  {
   "cell_type": "markdown",
   "metadata": {},
   "source": [
    "## Definición de punto HOME, planos de trabajo y seguro, inicialización de trayectoria completa"
   ]
  },
  {
   "cell_type": "code",
   "execution_count": null,
   "metadata": {},
   "outputs": [],
   "source": [
    "# Punto HOME\n",
    "homeX = 0\n",
    "homeY = 0\n",
    "homeZ = -528.67\n",
    "\n",
    "# Plano de trabajo\n",
    "planoTrabajo = -600\n",
    "# Plano seguro\n",
    "planoSeguro = -580\n",
    "\n",
    "# Trayectoria completa, inicia vacía\n",
    "txv = np.array([])\n",
    "tyv = np.array([])\n",
    "tzv = np.array([])"
   ]
  },
  {
   "cell_type": "markdown",
   "metadata": {},
   "source": [
    "## Movimiento inicial a plano seguro\n",
    "\n",
    "mueve la herramienta de HOME al plano seguro"
   ]
  },
  {
   "cell_type": "code",
   "execution_count": null,
   "metadata": {
    "scrolled": false
   },
   "outputs": [],
   "source": [
    "# Punto inicial\n",
    "pix = homeX\n",
    "piy = homeY\n",
    "piz = homeZ\n",
    "\n",
    "# Punto final\n",
    "pfx = 0\n",
    "pfy = 0\n",
    "pfz = planoSeguro\n",
    "\n",
    "# Interpolación lineal\n",
    "#numpos = 20\n",
    "# Descomentar para calcular numpos de acuerdo a la distancia mínima\n",
    "distMin = 5\n",
    "numpos = calcNumpos(pix,piy,piz,pfx,pfy,pfz,distMin)\n",
    "\n",
    "t1xv = np.linspace(pix,pfx,numpos)\n",
    "t1yv = np.linspace(piy,pfy,numpos)\n",
    "t1zv = np.linspace(piz,pfz,numpos)\n",
    "\n",
    "# Añadir movimiento a trayectoria completa\n",
    "txv = np.append(txv,t1xv)\n",
    "tyv = np.append(tyv,t1yv)\n",
    "tzv = np.append(tzv,t1zv)\n",
    "\n",
    "# El punto inicial de la trayectoria siguiente es el final de la actual\n",
    "pix = pfx\n",
    "piy = pfy\n",
    "piz = pfz\n",
    "\n",
    "# Descomentar para visualizar\n",
    "ax1.plot(txv,tyv,tzv,'.m')\n",
    "ax2.plot(txv,tyv,'.m')\n",
    "ax3.plot(txv,tzv,'.m')\n",
    "fig1"
   ]
  },
  {
   "cell_type": "markdown",
   "metadata": {},
   "source": [
    "## Definición de trayectoria\n",
    "\n",
    "Para agregar un movimiento a la trayectoria, copie las celdas de abajo\n",
    "- En la celda de Markdown, describa la trayectoria\n",
    "- En la celda de código, defina el punto inicial, punto final y la interpolación."
   ]
  },
  {
   "cell_type": "markdown",
   "metadata": {},
   "source": [
    "### Movimiento lineal X\n",
    "\n",
    "Punto inicial: *descripción del punto aquí*\n",
    "\n",
    "Punto final: *descripción del punto aquí*\n",
    "\n",
    "Interpolación lineal"
   ]
  },
  {
   "cell_type": "code",
   "execution_count": null,
   "metadata": {
    "scrolled": false
   },
   "outputs": [],
   "source": [
    "# Punto final\n",
    "pfx = 200\n",
    "pfy = 0\n",
    "pfz = planoTrabajo\n",
    "\n",
    "# Interpolación lineal\n",
    "# numpos = 2\n",
    "# Descomentar para calcular numpos de acuerdo a la distancia mínima\n",
    "distMin = 5\n",
    "numpos = calcNumpos(pix,piy,piz,pfx,pfy,pfz,distMin)\n",
    "\n",
    "t1xv = np.linspace(pix,pfx,numpos)\n",
    "t1yv = np.linspace(piy,pfy,numpos)\n",
    "t1zv = np.linspace(piz,pfz,numpos)\n",
    "\n",
    "# Añadir movimiento a trayectoria completa\n",
    "txv = np.append(txv,t1xv)\n",
    "tyv = np.append(tyv,t1yv)\n",
    "tzv = np.append(tzv,t1zv)\n",
    "\n",
    "# El punto inicial de la trayectoria siguiente es el final de la actual\n",
    "pix = pfx\n",
    "piy = pfy\n",
    "piz = pfz\n",
    "\n",
    "# Descomentar para visualizar\n",
    "ax1.plot(t1xv,t1yv,t1zv,'.r')\n",
    "ax2.plot(t1xv,t1yv,'.r')\n",
    "ax3.plot(t1xv,t1zv,'.r')\n",
    "fig1"
   ]
  },
  {
   "cell_type": "markdown",
   "metadata": {},
   "source": [
    "### Movimiento circular X\n",
    "\n",
    "Punto inicial: *descripción del punto aquí*\n",
    "\n",
    "Punto final: *descripción del punto aquí*\n",
    "\n",
    "Interpolación circunferencia"
   ]
  },
  {
   "cell_type": "code",
   "execution_count": null,
   "metadata": {
    "scrolled": false
   },
   "outputs": [],
   "source": [
    "# Punto final\n",
    "pfx = 200\n",
    "pfy = 0\n",
    "pfz = planoTrabajo\n",
    "# Para circunferencias especificar el rango de movimiento angular\n",
    "r = 200\n",
    "aini = 0\n",
    "afin = 2*np.pi\n",
    "\n",
    "# Interpolación circunferencia\n",
    "numpos = 40\n",
    "# Descomentar para calcular numpos de acuerdo a la distancia mínima\n",
    "distMin = 5\n",
    "numpos = calcNumposCirc(aini,afin,r,distMin)\n",
    "\n",
    "alpha = np.linspace(aini,afin,numpos)\n",
    "t1xv = r*np.cos(alpha)\n",
    "t1yv = r*np.sin(alpha)\n",
    "t1zv = pfz + np.zeros(numpos)\n",
    "\n",
    "# Añadir movimiento a trayectoria completa\n",
    "txv = np.append(txv,t1xv)\n",
    "tyv = np.append(tyv,t1yv)\n",
    "tzv = np.append(tzv,t1zv)\n",
    "\n",
    "# El punto inicial de la trayectoria siguiente es el final de la actual\n",
    "pix = pfx\n",
    "piy = pfy\n",
    "piz = pfz\n",
    "\n",
    "# Descomentar para visualizar\n",
    "ax1.plot(txv,tyv,tzv,'.r')\n",
    "ax2.plot(txv,tyv,'.r')\n",
    "ax3.plot(txv,tzv,'.r')\n",
    "fig1"
   ]
  },
  {
   "cell_type": "markdown",
   "metadata": {},
   "source": [
    "### Retorno a HOME\n"
   ]
  },
  {
   "cell_type": "code",
   "execution_count": null,
   "metadata": {
    "scrolled": false
   },
   "outputs": [],
   "source": [
    "# Punto final\n",
    "pfx = homeX\n",
    "pfy = homeY\n",
    "pfz = homeZ\n",
    "\n",
    "# Interpolación lineal\n",
    "numpos = 20\n",
    "# Descomentar para calcular numpos de acuerdo a la distancia mínima\n",
    "distMin = 5\n",
    "numpos = calcNumpos(pix,piy,piz,pfx,pfy,pfz,distMin)\n",
    "t1xv = np.linspace(pix,pfx,numpos)\n",
    "t1yv = np.linspace(piy,pfy,numpos)\n",
    "t1zv = np.linspace(piz,pfz,numpos)\n",
    "\n",
    "# Añadir movimiento a trayectoria completa\n",
    "txv = np.append(txv,t1xv)\n",
    "tyv = np.append(tyv,t1yv)\n",
    "tzv = np.append(tzv,t1zv)\n",
    "\n",
    "# El punto inicial de la trayectoria siguiente es el final de la actual\n",
    "pix = pfx\n",
    "piy = pfy\n",
    "piz = pfz\n",
    "\n",
    "# Descomentar para visualizar\n",
    "ax1.plot(txv,tyv,tzv,'.r')\n",
    "ax2.plot(txv,tyv,'.r')\n",
    "ax3.plot(txv,tzv,'.r')\n",
    "fig1"
   ]
  },
  {
   "cell_type": "markdown",
   "metadata": {},
   "source": [
    "Fin Definición de trayectoria\n",
    "\n",
    "## Exportar trayectoria\n",
    "\n",
    "Ahora vamos a exportar la trayectoria a un archivo. En la solución al análisis cinemático inverso podremos importar este archivo."
   ]
  },
  {
   "cell_type": "code",
   "execution_count": null,
   "metadata": {},
   "outputs": [],
   "source": [
    "import pickle\n",
    "with open(\"trayectoria\", \"wb\") as f:\n",
    "    pickle.dump([[txv],[tyv],[tzv]], f)"
   ]
  }
 ],
 "metadata": {
  "kernelspec": {
   "display_name": "Python 3",
   "language": "python",
   "name": "python3"
  },
  "language_info": {
   "codemirror_mode": {
    "name": "ipython",
    "version": 3
   },
   "file_extension": ".py",
   "mimetype": "text/x-python",
   "name": "python",
   "nbconvert_exporter": "python",
   "pygments_lexer": "ipython3",
   "version": "3.8.5"
  },
  "toc": {
   "base_numbering": 1,
   "nav_menu": {},
   "number_sections": true,
   "sideBar": true,
   "skip_h1_title": false,
   "title_cell": "Table of Contents",
   "title_sidebar": "Contents",
   "toc_cell": false,
   "toc_position": {},
   "toc_section_display": true,
   "toc_window_display": false
  },
  "varInspector": {
   "cols": {
    "lenName": 16,
    "lenType": 16,
    "lenVar": 40
   },
   "kernels_config": {
    "python": {
     "delete_cmd_postfix": "",
     "delete_cmd_prefix": "del ",
     "library": "var_list.py",
     "varRefreshCmd": "print(var_dic_list())"
    },
    "r": {
     "delete_cmd_postfix": ") ",
     "delete_cmd_prefix": "rm(",
     "library": "var_list.r",
     "varRefreshCmd": "cat(var_dic_list()) "
    }
   },
   "types_to_exclude": [
    "module",
    "function",
    "builtin_function_or_method",
    "instance",
    "_Feature"
   ],
   "window_display": false
  }
 },
 "nbformat": 4,
 "nbformat_minor": 4
}
