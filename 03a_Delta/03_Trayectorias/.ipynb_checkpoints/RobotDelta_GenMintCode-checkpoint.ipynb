{
 "cells": [
  {
   "cell_type": "markdown",
   "metadata": {},
   "source": [
    "# Generador de códigos para MintWorkbench\n",
    "\n",
    "Correr el cuaderno completo, requiere el archivo \"DeltaLib.py\" en la misma carpeta de este cuaderno\n",
    "\n",
    "## Abrir cuadro de diálogo\n",
    "\n",
    "revise que se abra un cuadro de diálogo, luego escoja la carpeta donde están las subcarpetas de cada estudiante"
   ]
  },
  {
   "cell_type": "code",
   "execution_count": 1,
   "metadata": {},
   "outputs": [
    {
     "name": "stdout",
     "output_type": "stream",
     "text": [
      "C:\\Users\\000092114\\UPB\\Mecanismos - General\\2022_20\\_notas\\TallerRobotDelta_ATiempo\n",
      "C:\\Users\\000092114\\UPB\\Mecanismos - General\\2022_20\\_notas\\TallerRobotDelta_ATiempo\\trayectorias\n"
     ]
    }
   ],
   "source": [
    "%reset -sf\n",
    "import tkinter as tk\n",
    "from tkinter import filedialog\n",
    "\n",
    "from pathlib import Path\n",
    "\n",
    "\n",
    "root = tk.Tk()\n",
    "root.wm_attributes('-topmost', 1)\n",
    "root.withdraw()\n",
    "\n",
    "file_path = Path(filedialog.askdirectory())\n",
    "print(file_path)\n",
    "trayPath = file_path.joinpath(\"trayectorias\")\n",
    "trayPath.mkdir(parents=True, exist_ok=True)\n",
    "print(trayPath)"
   ]
  },
  {
   "cell_type": "markdown",
   "metadata": {},
   "source": [
    "## Generar archivos de trayectoria\n",
    "\n",
    "Se generan archivos en una carpeta llamada \"trayectorias\" en la carpeta de trabajo de este cuaderno."
   ]
  },
  {
   "cell_type": "code",
   "execution_count": 4,
   "metadata": {
    "scrolled": false
   },
   "outputs": [
    {
     "name": "stdout",
     "output_type": "stream",
     "text": [
      "536  puntos procesados\n",
      "C:\\Users\\000092114\\UPB\\Mecanismos - General\\2022_20\\_notas\\TallerRobotDelta_ATiempo\\Calao Jimenez Valentina_2835171_assignsubmission_file_\\solution.txt\n",
      "536  puntos procesados\n",
      "302  puntos procesados\n",
      "C:\\Users\\000092114\\UPB\\Mecanismos - General\\2022_20\\_notas\\TallerRobotDelta_ATiempo\\Chacon Gallego David_2835170_assignsubmission_file_\\solution.txt\n",
      "302  puntos procesados\n",
      "714  puntos procesados\n",
      "C:\\Users\\000092114\\UPB\\Mecanismos - General\\2022_20\\_notas\\TallerRobotDelta_ATiempo\\Gallego Alzate Daniel_2835156_assignsubmission_file_\\solution.txt\n",
      "714  puntos procesados\n",
      "714  puntos procesados\n",
      "C:\\Users\\000092114\\UPB\\Mecanismos - General\\2022_20\\_notas\\TallerRobotDelta_ATiempo\\Madrid Rangel Juan Manuel_2835167_assignsubmission_file_\\solution.txt\n",
      "714  puntos procesados\n",
      "560  puntos procesados\n",
      "C:\\Users\\000092114\\UPB\\Mecanismos - General\\2022_20\\_notas\\TallerRobotDelta_ATiempo\\Ortega Castaño Sebastian_2835175_assignsubmission_file_\\solution.txt\n",
      "560  puntos procesados\n",
      "269  puntos procesados\n",
      "C:\\Users\\000092114\\UPB\\Mecanismos - General\\2022_20\\_notas\\TallerRobotDelta_ATiempo\\Ospina Jaramillo Pablo_2835168_assignsubmission_file_\\solution.txt\n",
      "269  puntos procesados\n",
      "389  puntos procesados\n",
      "C:\\Users\\000092114\\UPB\\Mecanismos - General\\2022_20\\_notas\\TallerRobotDelta_ATiempo\\Perez De Los Rios Leonardo_2835162_assignsubmission_file_\\solution.txt\n",
      "389  puntos procesados\n",
      "384  puntos procesados\n",
      "C:\\Users\\000092114\\UPB\\Mecanismos - General\\2022_20\\_notas\\TallerRobotDelta_ATiempo\\Regalado Chicaiza Sebastian Mauricio_2835172_assignsubmission_file_\\solution.txt\n",
      "384  puntos procesados\n",
      "587  puntos procesados\n",
      "C:\\Users\\000092114\\UPB\\Mecanismos - General\\2022_20\\_notas\\TallerRobotDelta_ATiempo\\Rincon Gutierrez Daniel_2835163_assignsubmission_file_\\solution.txt\n",
      "587  puntos procesados\n",
      "413  puntos procesados\n",
      "C:\\Users\\000092114\\UPB\\Mecanismos - General\\2022_20\\_notas\\TallerRobotDelta_ATiempo\\Sierra Guerrero Jose Francisco_2835164_assignsubmission_file_\\solution.txt\n",
      "413  puntos procesados\n",
      "346  puntos procesados\n",
      "C:\\Users\\000092114\\UPB\\Mecanismos - General\\2022_20\\_notas\\TallerRobotDelta_ATiempo\\Silva Rios Valeria_2835159_assignsubmission_file_\\solution.txt\n",
      "346  puntos procesados\n",
      "389  puntos procesados\n",
      "C:\\Users\\000092114\\UPB\\Mecanismos - General\\2022_20\\_notas\\TallerRobotDelta_ATiempo\\Vanegas Diaz Sofia_2835173_assignsubmission_file_\\solution.txt\n",
      "389  puntos procesados\n",
      "714  puntos procesados\n",
      "C:\\Users\\000092114\\UPB\\Mecanismos - General\\2022_20\\_notas\\TallerRobotDelta_ATiempo\\Vega Rodriguez Santiago_2835157_assignsubmission_file_\\solution.txt\n",
      "714  puntos procesados\n",
      "544  puntos procesados\n",
      "C:\\Users\\000092114\\UPB\\Mecanismos - General\\2022_20\\_notas\\TallerRobotDelta_ATiempo\\White Restrepo Tomas_2835169_assignsubmission_file_\\solution.txt\n",
      "544  puntos procesados\n",
      "630  puntos procesados\n",
      "C:\\Users\\000092114\\UPB\\Mecanismos - General\\2022_20\\_notas\\TallerRobotDelta_ATiempo\\Zuluaga Aristizabal Andres_2835174_assignsubmission_file_\\solution.txt\n",
      "630  puntos procesados\n"
     ]
    }
   ],
   "source": [
    "import os\n",
    "from DeltaLib import genMintCode\n",
    "import shutil\n",
    "\n",
    "#obtiene los directorios con terminación de Aula Digital\n",
    "def get_moodle_info(basepath,extension):\n",
    "    '''basepath: (string o Path) ruta de la carpeta descomprimida desde aula digital\n",
    "    extensions: extension a buscar(str) \n",
    "    '''\n",
    "    pathList,nameList,scriptList = list(),list(),list()\n",
    "    for entry in os.listdir(basepath):\n",
    "        entry = Path(entry)\n",
    "        if str(entry).endswith(\"_assignsubmission_file_\"):\n",
    "            #agregue el path de la carpeta a la lista de paths\n",
    "            pathList.append(basepath/entry)\n",
    "            #agregue el nombre a la lista de nombres (extraido del nombre de la entrega)\n",
    "            nameList.append(str(entry).split(\"_\")[0])\n",
    "            #recoja todos los archivos de cada entrega\n",
    "            p = pathList[-1].glob(\"**/*\")\n",
    "            #solo guarde los que estén en la lista de extensiones (para evitar que coja los cuadernos)\n",
    "            scriptList.append([x for x in p \n",
    "                               if x.is_file() and x.suffix == extension])\n",
    "            if scriptList[-1] == []: # Eliminar elementos vacíos\n",
    "                scriptList.pop(-1)\n",
    "                nameList.pop(-1)\n",
    "                pathList.pop(-1)\n",
    "    return pathList,nameList,scriptList\n",
    "#     return [name for name in os.listdir(a_dir)\n",
    "#             if os.path.isdir(os.path.join(a_dir, name))]\n",
    "\n",
    "paths,names,paths_csv = get_moodle_info(file_path,\".csv\")\n",
    "# print(paths_csv)\n",
    "for i,nombre in enumerate(names):\n",
    "    for j,path_csv in enumerate(paths_csv[i]):\n",
    "        print(genMintCode(path_csv,125,1))\n",
    "        codigo = Path(genMintCode(path_csv,125,1))\n",
    "        nuevoCodigo = Path(nombre + \".txt\")\n",
    "        try:\n",
    "            shutil.copyfile(codigo, trayPath/nuevoCodigo)\n",
    "        except Exception as e:\n",
    "            print(relPath,\" no entrega .csv\", \" o Error: \",e)\n",
    "\n",
    "# for relPath in get_immediate_subdirectories(file_path,):\n",
    "#     pathStr = Path(file_path/relPath/\"angulos.csv\")\n",
    "#     print(pathStr)\n",
    "#     genMintCode(pathStr,125,1)\n",
    "#     try:\n",
    "#         shutil.copyfile(file_path + \"/\" + relPath + \"/solution.txt\", file_path + \"/trayectorias/\" + relPath + '.txt')\n",
    "#     except Exception as e:\n",
    "#         print(relPath,\" no entrega .csv\", \" o Error: \",e)"
   ]
  },
  {
   "cell_type": "code",
   "execution_count": null,
   "metadata": {},
   "outputs": [],
   "source": []
  }
 ],
 "metadata": {
  "kernelspec": {
   "display_name": "Python 3 (ipykernel)",
   "language": "python",
   "name": "python3"
  },
  "language_info": {
   "codemirror_mode": {
    "name": "ipython",
    "version": 3
   },
   "file_extension": ".py",
   "mimetype": "text/x-python",
   "name": "python",
   "nbconvert_exporter": "python",
   "pygments_lexer": "ipython3",
   "version": "3.9.12"
  },
  "toc": {
   "base_numbering": 1,
   "nav_menu": {},
   "number_sections": true,
   "sideBar": true,
   "skip_h1_title": false,
   "title_cell": "Table of Contents",
   "title_sidebar": "Contents",
   "toc_cell": false,
   "toc_position": {},
   "toc_section_display": true,
   "toc_window_display": false
  },
  "varInspector": {
   "cols": {
    "lenName": 16,
    "lenType": 16,
    "lenVar": 40
   },
   "kernels_config": {
    "python": {
     "delete_cmd_postfix": "",
     "delete_cmd_prefix": "del ",
     "library": "var_list.py",
     "varRefreshCmd": "print(var_dic_list())"
    },
    "r": {
     "delete_cmd_postfix": ") ",
     "delete_cmd_prefix": "rm(",
     "library": "var_list.r",
     "varRefreshCmd": "cat(var_dic_list()) "
    }
   },
   "types_to_exclude": [
    "module",
    "function",
    "builtin_function_or_method",
    "instance",
    "_Feature"
   ],
   "window_display": false
  }
 },
 "nbformat": 4,
 "nbformat_minor": 4
}
