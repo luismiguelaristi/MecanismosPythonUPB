{
 "cells": [
  {
   "cell_type": "markdown",
   "id": "steady-chorus",
   "metadata": {},
   "source": [
    "# Análisis de posición mecanismo manivela-corredera"
   ]
  },
  {
   "cell_type": "markdown",
   "id": "according-discipline",
   "metadata": {},
   "source": [
    "![ManivelaCorredera](ManivelaCorredera.png)"
   ]
  },
  {
   "cell_type": "markdown",
   "id": "sustainable-coaching",
   "metadata": {},
   "source": [
    "### Análisis vectorial\n",
    "\n"
   ]
  },
  {
   "cell_type": "markdown",
   "id": "quarterly-boring",
   "metadata": {},
   "source": [
    "![DiagramaCinematico](ManivelaCorrederaDiagrama1.png)\n",
    "\n",
    "Ecuación de cierre vectorial:\n",
    "\n",
    "$\\vec{r_1}+\\vec{r_2}-\\vec{r_3} = 0$\n",
    "\n",
    "Las ecuaciones escalares correspondientes son:\n",
    "\n",
    "$r_1\\cdot cos(0°)+r_2\\cdot cos(\\theta_2)-r_3\\cdot cos(\\theta_3) = 0$,\n",
    "\n",
    "$r_1\\cdot sin(0°)+r_2\\cdot sin(\\theta_2)-r_3\\cdot sin(\\theta_3) = 0$"
   ]
  },
  {
   "cell_type": "markdown",
   "id": "solved-daniel",
   "metadata": {},
   "source": [
    "## Librerías\n",
    "\n",
    "Se importan las librerías necesarias para la simulación:"
   ]
  },
  {
   "cell_type": "code",
   "execution_count": 1,
   "id": "olive-arkansas",
   "metadata": {},
   "outputs": [],
   "source": [
    "import numpy as np\n",
    "import matplotlib.pyplot as plt\n",
    "from scipy.optimize import fsolve\n",
    "\n",
    "#Funcion para las animaciones:\n",
    "\n",
    "from matplotlib.animation import FuncAnimation"
   ]
  },
  {
   "cell_type": "markdown",
   "id": "perfect-washington",
   "metadata": {},
   "source": [
    "Se declara la función la cual se iterará para resolver el sistema de ecuaciones no lineales:"
   ]
  },
  {
   "cell_type": "code",
   "execution_count": 3,
   "id": "desirable-scenario",
   "metadata": {},
   "outputs": [
    {
     "ename": "SyntaxError",
     "evalue": "invalid syntax (<ipython-input-3-2907dd576397>, line 1)",
     "output_type": "error",
     "traceback": [
      "\u001b[1;36m  File \u001b[1;32m\"<ipython-input-3-2907dd576397>\"\u001b[1;36m, line \u001b[1;32m1\u001b[0m\n\u001b[1;33m    def manivela_corredera(x0, * r, * th):\u001b[0m\n\u001b[1;37m                                    ^\u001b[0m\n\u001b[1;31mSyntaxError\u001b[0m\u001b[1;31m:\u001b[0m invalid syntax\n"
     ]
    }
   ],
   "source": [
    "def manivela_corredera(x0, * r, * th):\n",
    "    \n",
    "    #Vector r: [r1, r2, r3]\n",
    "    #Vector theta: [th1, th2, th3]\n",
    "    \n",
    "    #x0 = [th2, th3]\n",
    "    \n",
    "    Y = np.zeros(2)\n",
    "    \n",
    "    Y[0] = r[0]*np.cos(th[0]) + r[1]*np.cos(x0[0]) - r[2]*np.cos(x0[1])\n",
    "    Y[1] = r[0]*np.sin(th[0]) + r[1]*np.sin(x0[0]) - r[2]*np.sin(x0[1])\n",
    "    \n",
    "    return Y\n",
    "    "
   ]
  },
  {
   "cell_type": "code",
   "execution_count": 3,
   "id": "aggregate-century",
   "metadata": {},
   "outputs": [],
   "source": [
    "#Parámetros:\n",
    "\n",
    "th1 = 0 #grados\n",
    "th2 = 143.4 #grados\n",
    "th3 = 63.4 #grados\n",
    "\n",
    "r1 = 16.514\n",
    "r2 = 15\n",
    "r3 = 10\n",
    "\n",
    "#Vectores:\n",
    "\n",
    "th = [np.deg2rad(th1), np.deg2rad(th2), np.deg2rad(th3)]"
   ]
  },
  {
   "cell_type": "code",
   "execution_count": 4,
   "id": "certain-kennedy",
   "metadata": {},
   "outputs": [],
   "source": [
    "#El vector de condiciones iniciales x0, se crea en función de los valores no conocidos:\n",
    "\n",
    "x0 = [th[1], th[2]]"
   ]
  },
  {
   "cell_type": "code",
   "execution_count": 5,
   "id": "supported-bosnia",
   "metadata": {},
   "outputs": [],
   "source": [
    "#Se define el número de posiciones:\n",
    "\n",
    "numpos = 50"
   ]
  },
  {
   "cell_type": "code",
   "execution_count": 6,
   "id": "engaged-helena",
   "metadata": {},
   "outputs": [],
   "source": [
    "#Se crea el vector que se usará para iterar el mecánismo, en este caso r1:\n",
    "\n",
    "R1 = np.linspace(r1, r1+3, numpos)"
   ]
  },
  {
   "cell_type": "code",
   "execution_count": 7,
   "id": "proper-timber",
   "metadata": {},
   "outputs": [],
   "source": [
    "#Vectores solución:\n",
    "\n",
    "TH2 = np.zeros(numpos)\n",
    "TH3 = np.zeros(numpos)\n",
    "\n",
    "EXITFLAG = np.zeros(numpos)"
   ]
  },
  {
   "cell_type": "code",
   "execution_count": 8,
   "id": "smart-interval",
   "metadata": {},
   "outputs": [
    {
     "name": "stdout",
     "output_type": "stream",
     "text": [
      "143.3961910341741 63.43369012673846\n",
      "143.93891843936964 62.002867249882364\n",
      "144.5049955771692 60.56898575708307\n",
      "145.0945942961582 59.13013370231442\n",
      "145.70801297927778 57.68434144664046\n",
      "146.3456842455313 56.22955878756964\n",
      "147.0081855276407 54.763629171623705\n",
      "147.69625307807416 53.28426000560376\n",
      "148.41080016319688 51.78898780581452\n",
      "149.1529404869059 50.27513653455538\n"
     ]
    }
   ],
   "source": [
    "#Solución sistema de ecuaciones:\n",
    "\n",
    "for i in range(numpos):\n",
    "        \n",
    "    TH2[i], TH3[i]= fsolve(manivela_corredera, x0, args=(r, th))\n",
    "        \n",
    "    x0 = [TH2[i], TH3[i]]\n",
    "    \n",
    "    if i%5 == 0:\n",
    "        \n",
    "        print(np.rad2deg(TH2[i]), np.rad2deg(TH3[i]))\n",
    "    "
   ]
  },
  {
   "cell_type": "markdown",
   "id": "finnish-storm",
   "metadata": {},
   "source": [
    "## Creación de gráficas"
   ]
  },
  {
   "cell_type": "code",
   "execution_count": 9,
   "id": "south-brighton",
   "metadata": {},
   "outputs": [
    {
     "data": {
      "text/plain": [
       "Text(0, 0.5, 'Theta 3')"
      ]
     },
     "execution_count": 9,
     "metadata": {},
     "output_type": "execute_result"
    },
    {
     "data": {
      "image/png": "[encoded data removed]",
      "text/plain": [
       "<Figure size 432x288 with 1 Axes>"
      ]
     },
     "metadata": {
      "needs_background": "light"
     },
     "output_type": "display_data"
    },
    {
     "data": {
      "image/png": "[encoded data removed]",
      "text/plain": [
       "<Figure size 432x288 with 1 Axes>"
      ]
     },
     "metadata": {
      "needs_background": "light"
     },
     "output_type": "display_data"
    }
   ],
   "source": [
    "plt.figure()\n",
    "\n",
    "plt.plot(R1, np.rad2deg(TH2))\n",
    "plt.legend(\"Th2\")\n",
    "plt.grid()\n",
    "plt.xlabel('r1')\n",
    "plt.ylabel('Theta 2')\n",
    "\n",
    "plt.figure()\n",
    "\n",
    "plt.plot(R1, np.rad2deg(TH3))\n",
    "plt.legend(\"Th3\")\n",
    "plt.grid()\n",
    "plt.xlabel('r1')\n",
    "plt.ylabel('Theta 3')"
   ]
  },
  {
   "cell_type": "code",
   "execution_count": 10,
   "id": "breeding-measurement",
   "metadata": {},
   "outputs": [],
   "source": [
    "#Coordenadas para las barras\n",
    "\n",
    "Ox = 0\n",
    "Oy = 0\n",
    "Ax = r3*np.cos(TH3)\n",
    "Ay = r3*np.sin(TH3)\n",
    "Bx = r2*np.cos(TH2) + R1\n",
    "By = r2*np.sin(TH2)\n"
   ]
  },
  {
   "cell_type": "markdown",
   "id": "animal-spice",
   "metadata": {},
   "source": [
    "## Preparación de la animación"
   ]
  },
  {
   "cell_type": "code",
   "execution_count": 16,
   "id": "digital-halloween",
   "metadata": {},
   "outputs": [
    {
     "data": {
      "image/png": "[encoded data removed]",
      "text/plain": [
       "<Figure size 432x288 with 1 Axes>"
      ]
     },
     "metadata": {
      "needs_background": "light"
     },
     "output_type": "display_data"
    }
   ],
   "source": [
    "fig = plt.figure()\n",
    "\n",
    "hr3 = plt.plot([Ox, Ax[0]], [Oy, Ay[0]])\n",
    "hr2 = plt.plot([R1[0], Bx[0]], [0, By[0]])\n",
    "\n",
    "plt.axis(\"scaled\")\n",
    "plt.xlim(0, R1[-1])\n",
    "plt.ylim(0, r3)\n",
    "plt.grid()\n",
    "\n",
    "plt.draw()"
   ]
  },
  {
   "cell_type": "code",
   "execution_count": 17,
   "id": "atmospheric-nylon",
   "metadata": {},
   "outputs": [],
   "source": [
    "def animar(i):\n",
    "    manivelaX = np.array([Ox, Ax[i]])\n",
    "    manivelaY = np.array([Ox, Ay[i]])\n",
    "    acopladorX = np.array([R1[i], Bx[i]])\n",
    "    acopladorY = np.array([0, By[i]])\n",
    "    hr3[0].set_xdata(manivelaX)\n",
    "    hr3[0].set_ydata(manivelaY)\n",
    "    hr2[0].set_xdata(acopladorX)\n",
    "    hr2[0].set_ydata(acopladorY)"
   ]
  },
  {
   "cell_type": "code",
   "execution_count": 18,
   "id": "fitted-anniversary",
   "metadata": {},
   "outputs": [],
   "source": [
    "animacion = FuncAnimation(fig, animar, interval=3000/numpos, save_count=numpos)"
   ]
  },
  {
   "cell_type": "code",
   "execution_count": 19,
   "id": "banner-cheese",
   "metadata": {},
   "outputs": [
    {
     "name": "stderr",
     "output_type": "stream",
     "text": [
      "MovieWriter ffmpeg unavailable; using Pillow instead.\n"
     ]
    }
   ],
   "source": [
    "animacion.save('animacion.gif')"
   ]
  },
  {
   "cell_type": "code",
   "execution_count": 20,
   "id": "charged-fundamentals",
   "metadata": {},
   "outputs": [
    {
     "data": {
      "text/html": [
       "<img src=\"animacion.gif\"/>"
      ],
      "text/plain": [
       "<IPython.core.display.Image object>"
      ]
     },
     "execution_count": 20,
     "metadata": {},
     "output_type": "execute_result"
    }
   ],
   "source": [
    "from IPython.display import Image\n",
    "Image(url='animacion.gif')  "
   ]
  },
  {
   "cell_type": "code",
   "execution_count": null,
   "id": "confidential-romantic",
   "metadata": {},
   "outputs": [],
   "source": []
  }
 ],
 "metadata": {
  "kernelspec": {
   "display_name": "Python 3",
   "language": "python",
   "name": "python3"
  },
  "language_info": {
   "codemirror_mode": {
    "name": "ipython",
    "version": 3
   },
   "file_extension": ".py",
   "mimetype": "text/x-python",
   "name": "python",
   "nbconvert_exporter": "python",
   "pygments_lexer": "ipython3",
   "version": "3.7.7"
  }
 },
 "nbformat": 4,
 "nbformat_minor": 5
}
